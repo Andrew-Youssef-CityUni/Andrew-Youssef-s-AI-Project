{
 "cells": [
  {
   "cell_type": "markdown",
   "metadata": {},
   "source": [
    "# Lab 08 - Optimization\n",
    "\n",
    "In this Lab, we are going to implement and study the behavior of different gradient descent optimizers on classical test functions.\n",
    "\n",
    "For inspiration (in particular for writing the functions to optiize on, and the visualizations), you can look at:\n",
    "\n",
    "http://louistiao.me/notes/visualizing-and-animating-optimization-algorithms-with-matplotlib/\n",
    "\n",
    "https://en.wikipedia.org/wiki/Test_functions_for_optimization\n",
    "\n"
   ]
  },
  {
   "cell_type": "markdown",
   "metadata": {},
   "source": [
    "## Exercise 01 - Test functions and plotting\n",
    "\n",
    "In this exercise, you will have to implement one of the following functions:\n",
    "- Rosenbrock\n",
    "- Beale\n",
    "- Goldentstein-Price\n",
    "\n",
    "See https://en.wikipedia.org/wiki/Test_functions_for_optimization\n",
    "\n",
    "Write a python function corresponding to  mathematical functions.\n",
    "\n",
    "Then write two visualization functions:\n",
    "- one to plot the 3D surface plot of a function (the function comes as argument)\n",
    "- one to plot the 2D contour plot of a function\n",
    "\n"
   ]
  },
  {
   "cell_type": "markdown",
   "metadata": {},
   "source": [
    "## Exercise 02\n",
    "\n",
    "In this exercise, implement the 2 following optimizers:\n",
    "- Adagrad\n",
    "- RMSprop\n",
    "\n",
    "They should include two stopping criterion:\n",
    "- number of optimization steps\n",
    "- distance to the actual minima is below a threshold"
   ]
  },
  {
   "cell_type": "markdown",
   "metadata": {},
   "source": [
    "## Exercise 03 - Running the optimizers on the functions to find the global minima\n",
    "\n",
    "Test the behaviors of each optimizer on the different loss function.\n",
    "\n",
    "Plot the different optimiziation steps in the 2D contour plot.\n",
    "\n"
   ]
  },
  {
   "cell_type": "code",
   "execution_count": null,
   "metadata": {},
   "outputs": [],
   "source": []
  }
 ],
 "metadata": {
  "kernelspec": {
   "display_name": "Python 3",
   "language": "python",
   "name": "python3"
  },
  "language_info": {
   "codemirror_mode": {
    "name": "ipython",
    "version": 3
   },
   "file_extension": ".py",
   "mimetype": "text/x-python",
   "name": "python",
   "nbconvert_exporter": "python",
   "pygments_lexer": "ipython3",
   "version": "3.8.3"
  }
 },
 "nbformat": 4,
 "nbformat_minor": 2
}

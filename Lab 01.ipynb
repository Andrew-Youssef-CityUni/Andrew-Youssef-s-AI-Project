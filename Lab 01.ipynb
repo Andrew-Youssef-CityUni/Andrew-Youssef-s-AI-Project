{
 "cells": [
  {
   "cell_type": "markdown",
   "metadata": {},
   "source": [
    "# Lab 01 - Linear Algebra\n",
    "\n",
    "In the following exercises, you are allowed to use the libraries math and matplotlib.\n",
    "\n",
    "Let say that 2D vectors are represented as tuples.\n",
    "\n",
    "The basis vector of our 2D space are then:"
   ]
  },
  {
   "cell_type": "code",
   "execution_count": 1,
   "metadata": {},
   "outputs": [],
   "source": [
    "i = (1, 0)\n",
    "j = (0, 1)"
   ]
  },
  {
   "cell_type": "markdown",
   "metadata": {},
   "source": [
    "Matrices are represented as tuples of tuples.\n",
    "\n",
    "The identity matrix is therefore:"
   ]
  },
  {
   "cell_type": "code",
   "execution_count": 3,
   "metadata": {},
   "outputs": [
    {
     "data": {
      "text/plain": [
       "1"
      ]
     },
     "execution_count": 3,
     "metadata": {},
     "output_type": "execute_result"
    }
   ],
   "source": [
    "I = ((1, 0), (0, 1))\n",
    "\n",
    "I[0][0]"
   ]
  },
  {
   "cell_type": "markdown",
   "metadata": {},
   "source": [
    "# Exercise 1 : vectors\n",
    "\n",
    "1. Write a function that returns the length of a vector.\n",
    "\n",
    "2. Write a function that returns the dot product between two vectors.\n",
    "\n",
    "3. Write a function to plot a list of vectors using matplotlib."
   ]
  },
  {
   "cell_type": "code",
   "execution_count": 2,
   "metadata": {},
   "outputs": [
    {
     "data": {
      "text/plain": [
       "-1"
      ]
     },
     "execution_count": 2,
     "metadata": {},
     "output_type": "execute_result"
    }
   ],
   "source": [
    "def length(a,b):\n",
    "    return b-a\n",
    "length(1,0)"
   ]
  },
  {
   "cell_type": "code",
   "execution_count": 9,
   "metadata": {},
   "outputs": [
    {
     "data": {
      "text/plain": [
       "0"
      ]
     },
     "execution_count": 9,
     "metadata": {},
     "output_type": "execute_result"
    }
   ],
   "source": [
    "def dotProduct(a,b):\n",
    "    return a*b\n",
    "dotProduct(1,0)"
   ]
  },
  {
   "cell_type": "code",
   "execution_count": 16,
   "metadata": {},
   "outputs": [
    {
     "ename": "NameError",
     "evalue": "name 'listofvectors' is not defined",
     "output_type": "error",
     "traceback": [
      "\u001b[1;31m---------------------------------------------------------------------------\u001b[0m",
      "\u001b[1;31mNameError\u001b[0m                                 Traceback (most recent call last)",
      "\u001b[1;32m<ipython-input-16-12c3424389b5>\u001b[0m in \u001b[0;36m<module>\u001b[1;34m\u001b[0m\n\u001b[0;32m      2\u001b[0m \u001b[1;32mdef\u001b[0m \u001b[0mplotListOfVector\u001b[0m\u001b[1;33m(\u001b[0m\u001b[0ma\u001b[0m\u001b[1;33m,\u001b[0m\u001b[0mb\u001b[0m\u001b[1;33m)\u001b[0m\u001b[1;33m:\u001b[0m\u001b[1;33m\u001b[0m\u001b[1;33m\u001b[0m\u001b[0m\n\u001b[0;32m      3\u001b[0m     \u001b[0mlistofvectors\u001b[0m \u001b[1;33m=\u001b[0m \u001b[1;33m[\u001b[0m\u001b[1;36m1\u001b[0m\u001b[1;33m,\u001b[0m\u001b[1;36m0\u001b[0m\u001b[1;33m]\u001b[0m\u001b[1;33m,\u001b[0m\u001b[1;33m[\u001b[0m\u001b[1;36m4\u001b[0m\u001b[1;33m,\u001b[0m\u001b[1;36m2\u001b[0m\u001b[1;33m]\u001b[0m\u001b[1;33m,\u001b[0m\u001b[1;33m[\u001b[0m\u001b[1;36m0\u001b[0m\u001b[1;33m,\u001b[0m\u001b[1;36m3\u001b[0m\u001b[1;33m]\u001b[0m\u001b[1;33m\u001b[0m\u001b[1;33m\u001b[0m\u001b[0m\n\u001b[1;32m----> 4\u001b[1;33m \u001b[0mplt\u001b[0m\u001b[1;33m.\u001b[0m\u001b[0mshow\u001b[0m\u001b[1;33m(\u001b[0m\u001b[0mlistofvectors\u001b[0m\u001b[1;33m)\u001b[0m\u001b[1;33m\u001b[0m\u001b[1;33m\u001b[0m\u001b[0m\n\u001b[0m",
      "\u001b[1;31mNameError\u001b[0m: name 'listofvectors' is not defined"
     ]
    }
   ],
   "source": [
    "import matplotlib.pyplot as plt\n",
    "def plotListOfVector(a,b):\n",
    "    listofvectors = [1,0],[4,2],[0,3]\n",
    "    plt.show(listofvectors)\n"
   ]
  },
  {
   "cell_type": "markdown",
   "metadata": {},
   "source": [
    "# Exercise 2 : matrices\n",
    "\n",
    "1. Write a function that calculates the determinant of a matrix.\n",
    "\n",
    "2. Write a function that calculates the product between a matrix and a vector (do you need one or two functions?).\n",
    "\n",
    "3. Write a function that calculates the inverse of a matrix (if it exists)."
   ]
  },
  {
   "cell_type": "markdown",
   "metadata": {},
   "source": [
    "# Exercise 3 : transformations\n",
    "\n",
    "Matrices can be viewed as transformations applied to vectors.\n",
    "In the following exercise, we will represent vectors as their endpoint when starting form the origin of a coordinate system.\n",
    "\n",
    "1. Write a function to plot 2 lists of vectors, with 2 different colors.\n",
    "\n",
    "2. Visualize the effects of a transformation by a matrix of deternminant 0. \n",
    "\n",
    "2. Visualize classical 2D transformations: rotation, scaling, sheer, ...\n",
    "\n"
   ]
  },
  {
   "cell_type": "code",
   "execution_count": 7,
   "metadata": {},
   "outputs": [
    {
     "name": "stdout",
     "output_type": "stream",
     "text": [
      "# packages in environment at C:\\Users\\andre\\miniconda3:\n",
      "Note: you may need to restart the kernel to use updated packages.\n",
      "#\n",
      "# Name                    Version                   Build  Channel\n",
      "argon2-cffi               20.1.0           py38h1e8a9f7_1    conda-forge\n",
      "async_generator           1.10                       py_0    conda-forge\n",
      "attrs                     20.2.0             pyh9f0ad1d_0    conda-forge\n",
      "backcall                  0.2.0              pyh9f0ad1d_0    conda-forge\n",
      "backports                 1.0                        py_2    conda-forge\n",
      "backports.functools_lru_cache 1.6.1                      py_0    conda-forge\n",
      "bleach                    3.2.1              pyh9f0ad1d_0    conda-forge\n",
      "ca-certificates           2020.6.20            hecda079_0    conda-forge\n",
      "certifi                   2020.6.20        py38h32f6830_0    conda-forge\n",
      "cffi                      1.14.0           py38h7a1dbc1_0  \n",
      "chardet                   3.0.4                 py38_1003  \n",
      "colorama                  0.4.3                      py_0    conda-forge\n",
      "conda                     4.8.5            py38h32f6830_1    conda-forge\n",
      "conda-package-handling    1.6.1            py38h62dcd97_0  \n",
      "console_shortcut          0.1.1                         4  \n",
      "cryptography              2.9.2            py38h7a1dbc1_0  \n",
      "decorator                 4.4.2                      py_0    conda-forge\n",
      "defusedxml                0.6.0                      py_0    conda-forge\n",
      "entrypoints               0.3             py38h32f6830_1001    conda-forge\n",
      "\n",
      "idna                      2.9                        py_1  \n",
      "importlib-metadata        2.0.0            py38h32f6830_0    conda-forge\n",
      "importlib_metadata        2.0.0                         0    conda-forge\n",
      "ipykernel                 5.3.4            py38h5ca1d4c_0    conda-forge\n",
      "ipython                   7.18.1           py38h1cdfbd6_0    conda-forge\n",
      "ipython_genutils          0.2.0                      py_1    conda-forge\n",
      "jedi                      0.15.2                   py38_0    conda-forge\n",
      "jinja2                    2.11.2             pyh9f0ad1d_0    conda-forge\n",
      "json5                     0.9.5              pyh9f0ad1d_0    conda-forge\n",
      "jsonschema                3.2.0            py38h32f6830_1    conda-forge\n",
      "jupyter_client            6.1.7                      py_0    conda-forge\n",
      "jupyter_core              4.6.3            py38h32f6830_1    conda-forge\n",
      "jupyter_server            1.0.1            py38h32f6830_0    conda-forge\n",
      "jupyterlab                2.2.8                      py_0    conda-forge\n",
      "jupyterlab_pygments       0.1.1              pyh9f0ad1d_0    conda-forge\n",
      "jupyterlab_server         1.2.0                      py_0    conda-forge\n",
      "libsodium                 1.0.17               h2fa13f4_0    conda-forge\n",
      "m2w64-gcc-libgfortran     5.3.0                         6  \n",
      "m2w64-gcc-libs            5.3.0                         7  \n",
      "m2w64-gcc-libs-core       5.3.0                         7  \n",
      "m2w64-gmp                 6.1.0                         2  \n",
      "m2w64-libwinpthread-git   5.0.0.4634.697f757               2  \n",
      "markupsafe                1.1.1            py38h1e8a9f7_1    conda-forge\n",
      "menuinst                  1.4.16           py38he774522_0  \n",
      "mistune                   0.8.4           py38h9de7a3e_1001    conda-forge\n",
      "msys2-conda-epoch         20160418                      1  \n",
      "nbclient                  0.5.0                      py_0    conda-forge\n",
      "nbconvert                 6.0.6            py38h32f6830_0    conda-forge\n",
      "nbformat                  5.0.7                      py_0    conda-forge\n",
      "nest-asyncio              1.4.1                      py_0    conda-forge\n",
      "notebook                  6.1.4            py38h32f6830_0    conda-forge\n",
      "openssl                   1.1.1h               he774522_0    conda-forge\n",
      "packaging                 20.4               pyh9f0ad1d_0    conda-forge\n",
      "pandoc                    2.10.1               he774522_0    conda-forge\n",
      "pandocfilters             1.4.2                      py_1    conda-forge\n",
      "parso                     0.5.2                      py_0  \n",
      "pickleshare               0.7.5           py38h32f6830_1001    conda-forge\n",
      "pip                       20.0.2                   py38_3  \n",
      "powershell_shortcut       0.0.1                         3  \n",
      "prometheus_client         0.8.0              pyh9f0ad1d_0    conda-forge\n",
      "prompt-toolkit            3.0.7                      py_0    conda-forge\n",
      "pycosat                   0.6.3            py38he774522_0  \n",
      "pycparser                 2.20                       py_0  \n",
      "pygments                  2.7.1                      py_0    conda-forge\n",
      "pyopenssl                 19.1.0                   py38_0  \n",
      "pyparsing                 2.4.7              pyh9f0ad1d_0    conda-forge\n",
      "pyrsistent                0.17.3           py38h1e8a9f7_0    conda-forge\n",
      "pysocks                   1.7.1                    py38_0  \n",
      "python                    3.8.3                he1778fa_0  \n",
      "python-dateutil           2.8.1                      py_0    conda-forge\n",
      "python_abi                3.8                      1_cp38    conda-forge\n",
      "pywin32                   227              py38he774522_1  \n",
      "pywinpty                  0.5.7                    py38_0    conda-forge\n",
      "pyzmq                     19.0.2           py38h77b9d75_0    conda-forge\n",
      "requests                  2.23.0                   py38_0  \n",
      "ruamel_yaml               0.15.87          py38he774522_0  \n",
      "send2trash                1.5.0                      py_0    conda-forge\n",
      "setuptools                46.4.0                   py38_0  \n",
      "six                       1.14.0                   py38_0  \n",
      "sqlite                    3.31.1               h2a8f88b_1  \n",
      "terminado                 0.9.1            py38h32f6830_0    conda-forge\n",
      "testpath                  0.4.4                      py_0    conda-forge\n",
      "tornado                   6.0.4            py38hfa6e2cd_0    conda-forge\n",
      "tqdm                      4.46.0                     py_0  \n",
      "traitlets                 5.0.4                      py_1    conda-forge\n",
      "urllib3                   1.25.8                   py38_0  \n",
      "vc                        14.1                 h0510ff6_4  \n",
      "voila                     0.2.3                      py_0    conda-forge\n",
      "vs2015_runtime            14.16.27012          hf0eaf9b_1  \n",
      "wcwidth                   0.2.5              pyh9f0ad1d_2    conda-forge\n",
      "webencodings              0.5.1                      py_1    conda-forge\n",
      "wheel                     0.34.2                   py38_0  \n",
      "win_inet_pton             1.1.0                    py38_0  \n",
      "wincertstore              0.2                      py38_0  \n",
      "winpty                    0.4.3                         4    conda-forge\n",
      "yaml                      0.1.7                hc54c509_2  \n",
      "zeromq                    4.3.2                ha925a31_3    conda-forge\n",
      "zipp                      3.2.0                      py_0    conda-forge\n",
      "zlib                      1.2.11               h62dcd97_4  \n"
     ]
    }
   ],
   "source": []
  },
  {
   "cell_type": "code",
   "execution_count": null,
   "metadata": {},
   "outputs": [],
   "source": []
  }
 ],
 "metadata": {
  "kernelspec": {
   "display_name": "Python 3",
   "language": "python",
   "name": "python3"
  },
  "language_info": {
   "codemirror_mode": {
    "name": "ipython",
    "version": 3
   },
   "file_extension": ".py",
   "mimetype": "text/x-python",
   "name": "python",
   "nbconvert_exporter": "python",
   "pygments_lexer": "ipython3",
   "version": "3.8.3"
  }
 },
 "nbformat": 4,
 "nbformat_minor": 4
}

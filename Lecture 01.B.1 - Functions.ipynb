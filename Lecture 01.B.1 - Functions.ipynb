{
 "cells": [
  {
   "cell_type": "markdown",
   "metadata": {},
   "source": [
    "# 1 - Argument Passing\n",
    "\n",
    "The Python programming language is quite relaxed in terms of argument passing.\\\n",
    "You can do pretty much whatever you want:\n",
    "- pass one argument\n",
    "- pass multiple arguments\n",
    "- pass no arguments\n",
    "\n",
    "The arguments can be identified by position and/or keywords.\n",
    "\n",
    "You don't need to specify the types of the arguments.\\\n",
    "(you can, but it is out of the scope of this lecture)\n",
    "\n"
   ]
  },
  {
   "cell_type": "code",
   "execution_count": 76,
   "metadata": {},
   "outputs": [
    {
     "data": {
      "text/plain": [
       "6"
      ]
     },
     "execution_count": 76,
     "metadata": {},
     "output_type": "execute_result"
    }
   ],
   "source": [
    "# Passing positional arguments\n",
    "\n",
    "def function_1(a, b, c):\n",
    "    return a+b+c\n",
    "\n",
    "function_1(1,2,3)\n"
   ]
  },
  {
   "cell_type": "code",
   "execution_count": 77,
   "metadata": {},
   "outputs": [
    {
     "data": {
      "text/plain": [
       "6"
      ]
     },
     "execution_count": 77,
     "metadata": {},
     "output_type": "execute_result"
    }
   ],
   "source": [
    "# Passing keyword arguments\n",
    "\n",
    "function_1(1, c=3, b=2)\n"
   ]
  },
  {
   "cell_type": "markdown",
   "metadata": {},
   "source": [
    "In the function definition, you can define default values.\\\n",
    "If no argument has been provided for this parameter, it will use the default argument."
   ]
  },
  {
   "cell_type": "code",
   "execution_count": 23,
   "metadata": {},
   "outputs": [
    {
     "data": {
      "text/plain": [
       "21"
      ]
     },
     "execution_count": 23,
     "metadata": {},
     "output_type": "execute_result"
    }
   ],
   "source": [
    "def function_2(a, b, c=10):\n",
    "    return a+b*c\n",
    "\n",
    "function_2(1,2)"
   ]
  },
  {
   "cell_type": "code",
   "execution_count": 24,
   "metadata": {},
   "outputs": [
    {
     "data": {
      "text/plain": [
       "24"
      ]
     },
     "execution_count": 24,
     "metadata": {},
     "output_type": "execute_result"
    }
   ],
   "source": [
    "function_2(b=2, a=4)"
   ]
  },
  {
   "cell_type": "markdown",
   "metadata": {},
   "source": [
    "If you don't know in advance how many arguments you will have, you can use * and **.\n",
    "\n",
    "This is call packing and unpacking arguments."
   ]
  },
  {
   "cell_type": "code",
   "execution_count": 25,
   "metadata": {},
   "outputs": [
    {
     "data": {
      "text/plain": [
       "15"
      ]
     },
     "execution_count": 25,
     "metadata": {},
     "output_type": "execute_result"
    }
   ],
   "source": [
    "def function_3(*numbers):\n",
    "    result = 0\n",
    "    for n in numbers:\n",
    "        result += n\n",
    "        \n",
    "    return result\n",
    "\n",
    "function_3(1,2,3,4,5)"
   ]
  },
  {
   "cell_type": "code",
   "execution_count": 26,
   "metadata": {},
   "outputs": [
    {
     "ename": "TypeError",
     "evalue": "unsupported operand type(s) for +=: 'int' and 'list'",
     "output_type": "error",
     "traceback": [
      "\u001b[1;31m---------------------------------------------------------------------------\u001b[0m",
      "\u001b[1;31mTypeError\u001b[0m                                 Traceback (most recent call last)",
      "\u001b[1;32m<ipython-input-26-469b975e9f92>\u001b[0m in \u001b[0;36m<module>\u001b[1;34m\u001b[0m\n\u001b[0;32m      1\u001b[0m \u001b[0mlist_of_numbers\u001b[0m \u001b[1;33m=\u001b[0m \u001b[1;33m[\u001b[0m\u001b[1;36m1\u001b[0m\u001b[1;33m,\u001b[0m\u001b[1;36m2\u001b[0m\u001b[1;33m,\u001b[0m\u001b[1;36m3\u001b[0m\u001b[1;33m,\u001b[0m\u001b[1;36m4\u001b[0m\u001b[1;33m,\u001b[0m\u001b[1;36m5\u001b[0m\u001b[1;33m,\u001b[0m\u001b[1;36m6\u001b[0m\u001b[1;33m]\u001b[0m\u001b[1;33m\u001b[0m\u001b[1;33m\u001b[0m\u001b[0m\n\u001b[1;32m----> 2\u001b[1;33m \u001b[0mfunction_3\u001b[0m\u001b[1;33m(\u001b[0m\u001b[0mlist_of_numbers\u001b[0m\u001b[1;33m)\u001b[0m\u001b[1;33m\u001b[0m\u001b[1;33m\u001b[0m\u001b[0m\n\u001b[0m",
      "\u001b[1;32m<ipython-input-25-a59b07501e2a>\u001b[0m in \u001b[0;36mfunction_3\u001b[1;34m(*numbers)\u001b[0m\n\u001b[0;32m      2\u001b[0m     \u001b[0mresult\u001b[0m \u001b[1;33m=\u001b[0m \u001b[1;36m0\u001b[0m\u001b[1;33m\u001b[0m\u001b[1;33m\u001b[0m\u001b[0m\n\u001b[0;32m      3\u001b[0m     \u001b[1;32mfor\u001b[0m \u001b[0mn\u001b[0m \u001b[1;32min\u001b[0m \u001b[0mnumbers\u001b[0m\u001b[1;33m:\u001b[0m\u001b[1;33m\u001b[0m\u001b[1;33m\u001b[0m\u001b[0m\n\u001b[1;32m----> 4\u001b[1;33m         \u001b[0mresult\u001b[0m \u001b[1;33m+=\u001b[0m \u001b[0mn\u001b[0m\u001b[1;33m\u001b[0m\u001b[1;33m\u001b[0m\u001b[0m\n\u001b[0m\u001b[0;32m      5\u001b[0m \u001b[1;33m\u001b[0m\u001b[0m\n\u001b[0;32m      6\u001b[0m     \u001b[1;32mreturn\u001b[0m \u001b[0mresult\u001b[0m\u001b[1;33m\u001b[0m\u001b[1;33m\u001b[0m\u001b[0m\n",
      "\u001b[1;31mTypeError\u001b[0m: unsupported operand type(s) for +=: 'int' and 'list'"
     ]
    }
   ],
   "source": [
    "list_of_numbers = [1,2,3,4,5,6]\n",
    "function_3(list_of_numbers)"
   ]
  },
  {
   "cell_type": "code",
   "execution_count": 27,
   "metadata": {},
   "outputs": [
    {
     "data": {
      "text/plain": [
       "21"
      ]
     },
     "execution_count": 27,
     "metadata": {},
     "output_type": "execute_result"
    }
   ],
   "source": [
    "function_3(*list_of_numbers)"
   ]
  },
  {
   "cell_type": "markdown",
   "metadata": {},
   "source": [
    "If we look into more details, we see that using * actually pack or unpacks a tuple."
   ]
  },
  {
   "cell_type": "code",
   "execution_count": 28,
   "metadata": {},
   "outputs": [
    {
     "name": "stdout",
     "output_type": "stream",
     "text": [
      "(1, 2, 3, 4)\n"
     ]
    }
   ],
   "source": [
    "def function_4(*numbers):\n",
    "    print(numbers)\n",
    "    \n",
    "function_4(1,2,3,4)"
   ]
  },
  {
   "cell_type": "markdown",
   "metadata": {},
   "source": [
    "What about keyword arguments?\\\n",
    "We have the same packing and unpacking, but instead of tuples, we do that with dictionaries and **."
   ]
  },
  {
   "cell_type": "code",
   "execution_count": 78,
   "metadata": {},
   "outputs": [
    {
     "name": "stdout",
     "output_type": "stream",
     "text": [
      "michael 93221\n",
      "charles 1111\n",
      "hortense 12456\n"
     ]
    }
   ],
   "source": [
    "def function_5(**phone_numbers):\n",
    "    for name, number in phone_numbers.items():\n",
    "        print(name, number)\n",
    "        \n",
    "phone_book = { 'michael': 93221, 'charles': 1111, 'hortense': 12456}\n",
    "\n",
    "function_5(**phone_book)\n"
   ]
  },
  {
   "cell_type": "markdown",
   "metadata": {},
   "source": [
    "Now to the more interesting applications of packing/unpacking.\\\n",
    "You can use it to capture any additional optional keyword arguments that might be useful for your function."
   ]
  },
  {
   "cell_type": "code",
   "execution_count": 79,
   "metadata": {},
   "outputs": [
    {
     "name": "stdout",
     "output_type": "stream",
     "text": [
      "10 0 0\n"
     ]
    }
   ],
   "source": [
    "def robot(size, **parts):\n",
    "    \n",
    "    head = parts.get('head', 0)\n",
    "    arm = parts.get('arm', 0)\n",
    "    wheel = parts.get('wheel', 0)\n",
    "\n",
    "    print(head, arm, wheel)\n",
    "    \n",
    "robot(100, head = 10)"
   ]
  },
  {
   "cell_type": "code",
   "execution_count": 82,
   "metadata": {},
   "outputs": [
    {
     "name": "stdout",
     "output_type": "stream",
     "text": [
      "20 4 40\n"
     ]
    }
   ],
   "source": [
    "robot_parts = {'head':20, 'arm': 4, 'wheel': 40}\n",
    "robot(size = 2, **robot_parts)"
   ]
  },
  {
   "cell_type": "markdown",
   "metadata": {},
   "source": [
    "# 2 - Namespace and scope\n",
    "\n",
    "Objects are identified by their name and are within a namespace.\n",
    "\n",
    "You have three types of namespaces:\n",
    "- Built-in: print, enumerate, ...\n",
    "- Global: any names defined at the level of the program\n",
    "- Local: within a function or class\n",
    "\n",
    "(you also have Enclosing namespaces).\n",
    "\n",
    "Scopes: part of the program where you can use a name\n"
   ]
  },
  {
   "cell_type": "code",
   "execution_count": 83,
   "metadata": {},
   "outputs": [
    {
     "ename": "NameError",
     "evalue": "name 'a' is not defined",
     "output_type": "error",
     "traceback": [
      "\u001b[1;31m---------------------------------------------------------------------------\u001b[0m",
      "\u001b[1;31mNameError\u001b[0m                                 Traceback (most recent call last)",
      "\u001b[1;32m<ipython-input-83-0f29006bec4f>\u001b[0m in \u001b[0;36m<module>\u001b[1;34m\u001b[0m\n\u001b[0;32m      5\u001b[0m \u001b[1;33m\u001b[0m\u001b[0m\n\u001b[0;32m      6\u001b[0m \u001b[0mexample_fail\u001b[0m\u001b[1;33m(\u001b[0m\u001b[1;33m)\u001b[0m\u001b[1;33m\u001b[0m\u001b[1;33m\u001b[0m\u001b[0m\n\u001b[1;32m----> 7\u001b[1;33m \u001b[0ma\u001b[0m\u001b[1;33m\u001b[0m\u001b[1;33m\u001b[0m\u001b[0m\n\u001b[0m",
      "\u001b[1;31mNameError\u001b[0m: name 'a' is not defined"
     ]
    }
   ],
   "source": [
    "def example_fail( a = 4 ):\n",
    "    \n",
    "    b = 2\n",
    "    return a + b\n",
    "\n",
    "example_fail()\n",
    "a"
   ]
  },
  {
   "cell_type": "code",
   "execution_count": 86,
   "metadata": {},
   "outputs": [
    {
     "name": "stdout",
     "output_type": "stream",
     "text": [
      "2\n",
      "4\n"
     ]
    }
   ],
   "source": [
    "alpha = 42\n",
    "\n",
    "def alpha( alpha = 2 ):\n",
    "    \n",
    "    print(alpha)\n",
    "    alpha = alpha * 2\n",
    "    \n",
    "    return alpha\n",
    "\n",
    "print(alpha())"
   ]
  },
  {
   "cell_type": "code",
   "execution_count": 89,
   "metadata": {},
   "outputs": [
    {
     "data": {
      "text/plain": [
       "12"
      ]
     },
     "execution_count": 89,
     "metadata": {},
     "output_type": "execute_result"
    }
   ],
   "source": [
    "alpha_out = 4\n",
    "\n",
    "def beta( alpha = 2 ):\n",
    "    result = alpha * alpha_out\n",
    "    return result\n",
    "\n",
    "beta(3)"
   ]
  },
  {
   "cell_type": "code",
   "execution_count": 99,
   "metadata": {},
   "outputs": [
    {
     "ename": "UnboundLocalError",
     "evalue": "local variable 'alpha_out' referenced before assignment",
     "output_type": "error",
     "traceback": [
      "\u001b[1;31m---------------------------------------------------------------------------\u001b[0m",
      "\u001b[1;31mUnboundLocalError\u001b[0m                         Traceback (most recent call last)",
      "\u001b[1;32m<ipython-input-99-4abb8d8c2b42>\u001b[0m in \u001b[0;36m<module>\u001b[1;34m\u001b[0m\n\u001b[0;32m     10\u001b[0m     \u001b[1;32mreturn\u001b[0m \u001b[0mresult\u001b[0m\u001b[1;33m\u001b[0m\u001b[1;33m\u001b[0m\u001b[0m\n\u001b[0;32m     11\u001b[0m \u001b[1;33m\u001b[0m\u001b[0m\n\u001b[1;32m---> 12\u001b[1;33m \u001b[0mgamma\u001b[0m\u001b[1;33m(\u001b[0m\u001b[1;36m2\u001b[0m\u001b[1;33m)\u001b[0m\u001b[1;33m\u001b[0m\u001b[1;33m\u001b[0m\u001b[0m\n\u001b[0m",
      "\u001b[1;32m<ipython-input-99-4abb8d8c2b42>\u001b[0m in \u001b[0;36mgamma\u001b[1;34m(alpha)\u001b[0m\n\u001b[0;32m      5\u001b[0m \u001b[1;32mdef\u001b[0m \u001b[0mgamma\u001b[0m\u001b[1;33m(\u001b[0m \u001b[0malpha\u001b[0m \u001b[1;33m=\u001b[0m \u001b[1;36m2\u001b[0m \u001b[1;33m)\u001b[0m\u001b[1;33m:\u001b[0m\u001b[1;33m\u001b[0m\u001b[1;33m\u001b[0m\u001b[0m\n\u001b[0;32m      6\u001b[0m \u001b[1;33m\u001b[0m\u001b[0m\n\u001b[1;32m----> 7\u001b[1;33m     \u001b[0mresult\u001b[0m \u001b[1;33m=\u001b[0m \u001b[0malpha\u001b[0m \u001b[1;33m*\u001b[0m \u001b[0malpha_out\u001b[0m\u001b[1;33m\u001b[0m\u001b[1;33m\u001b[0m\u001b[0m\n\u001b[0m\u001b[0;32m      8\u001b[0m     \u001b[0malpha_out\u001b[0m \u001b[1;33m=\u001b[0m \u001b[1;36m5\u001b[0m\u001b[1;33m\u001b[0m\u001b[1;33m\u001b[0m\u001b[0m\n\u001b[0;32m      9\u001b[0m \u001b[1;33m\u001b[0m\u001b[0m\n",
      "\u001b[1;31mUnboundLocalError\u001b[0m: local variable 'alpha_out' referenced before assignment"
     ]
    }
   ],
   "source": [
    "# Modifying a global variable within a function\n",
    "\n",
    "alpha_out = 3\n",
    "\n",
    "def gamma( alpha = 2 ):\n",
    "    \n",
    "    result = alpha * alpha_out\n",
    "    alpha_out = 5\n",
    "    \n",
    "    return result\n",
    "\n",
    "gamma(2)"
   ]
  },
  {
   "cell_type": "code",
   "execution_count": 100,
   "metadata": {},
   "outputs": [
    {
     "data": {
      "text/plain": [
       "5"
      ]
     },
     "execution_count": 100,
     "metadata": {},
     "output_type": "execute_result"
    }
   ],
   "source": [
    "alpha_out = 42\n",
    "\n",
    "def gamma( alpha = 2 ):\n",
    "\n",
    "    global alpha_out\n",
    "    \n",
    "    alpha_out = 5\n",
    "    result = alpha * alpha_out\n",
    "       \n",
    "    return result\n",
    "\n",
    "gamma(12)\n",
    "alpha_out"
   ]
  },
  {
   "cell_type": "markdown",
   "metadata": {},
   "source": [
    "In general, you should never, under any circumstances, modify variables which are not in the scope of your function.\n",
    "\n",
    "These are side-effects:\n",
    "- sometimes, you know what you are doing, and everything works out\n",
    "- often, you don't anticipate side effects, and everything crashes\n",
    "\n",
    "Avoid at all cost.\n",
    "\n",
    "If I see `global` in your code, there better be a good reason for it.\n"
   ]
  },
  {
   "cell_type": "markdown",
   "metadata": {},
   "source": [
    "# 3 - Side effects and mutability\n",
    "\n",
    "Please, be very cautious about what data types you are passing to functions.\\\n",
    "\n",
    "Objects and therefore variables, can be:\n",
    "- mutable: they can change once they are created\n",
    "- immutable: thhey can't\n",
    "\n",
    "Built-in mutables: list, set, dict\n",
    "\n",
    "For example:\n"
   ]
  },
  {
   "cell_type": "code",
   "execution_count": 107,
   "metadata": {},
   "outputs": [
    {
     "name": "stdout",
     "output_type": "stream",
     "text": [
      "140721349099584\n",
      "140721349099616\n"
     ]
    }
   ],
   "source": [
    "# Ints are immutable\n",
    "\n",
    "a = 123\n",
    "print(id(a)) # returns the unique identity of an object\n",
    "\n",
    "a = a + 1\n",
    "print(id(a))"
   ]
  },
  {
   "cell_type": "code",
   "execution_count": 110,
   "metadata": {},
   "outputs": [
    {
     "name": "stdout",
     "output_type": "stream",
     "text": [
      "2408782544264\n",
      "2408782544264\n"
     ]
    },
    {
     "data": {
      "text/plain": [
       "[1, 3, 4, 5, 6]"
      ]
     },
     "execution_count": 110,
     "metadata": {},
     "output_type": "execute_result"
    }
   ],
   "source": [
    "# Lists are mutable\n",
    "\n",
    "list_a = [1, 3, 4, 5]\n",
    "print(id(list_a))\n",
    "\n",
    "list_a.append(6)\n",
    "print(id(list_a))\n",
    "\n",
    "list_a"
   ]
  },
  {
   "cell_type": "markdown",
   "metadata": {},
   "source": [
    "Mutability is not, in itself , a problem.\n",
    "But you should be aware of which methods can modify a mutable argument.\n",
    "\n",
    "For example:"
   ]
  },
  {
   "cell_type": "code",
   "execution_count": 116,
   "metadata": {},
   "outputs": [
    {
     "name": "stdout",
     "output_type": "stream",
     "text": [
      "Little  bear  goes to the forest.\n",
      "Little  fox  goes to the forest.\n",
      "Little  rabbit  goes to the forest.\n"
     ]
    },
    {
     "data": {
      "text/plain": [
       "[]"
      ]
     },
     "execution_count": 116,
     "metadata": {},
     "output_type": "execute_result"
    }
   ],
   "source": [
    "def pretty_print(list_animals):\n",
    "    \n",
    "    while len(list_animals) != 0:\n",
    "        print( 'Little ', list_animals.pop(), ' goes to the forest.')\n",
    "    \n",
    "animals = ['rabbit', 'fox', 'bear']\n",
    "\n",
    "pretty_print(animals)\n",
    "\n",
    "animals"
   ]
  },
  {
   "cell_type": "code",
   "execution_count": 117,
   "metadata": {},
   "outputs": [
    {
     "data": {
      "text/plain": [
       "[65, 3, 4]"
      ]
     },
     "execution_count": 117,
     "metadata": {},
     "output_type": "execute_result"
    }
   ],
   "source": [
    "# Other example of where mutability can trick you:\n",
    "\n",
    "a = [2,3,4]\n",
    "b = a \n",
    "\n",
    "b[0] = 65\n",
    "\n",
    "a"
   ]
  },
  {
   "cell_type": "markdown",
   "metadata": {},
   "source": [
    "If you want to avoid these effects, use `copy`.\n",
    "\n",
    "`copy` creates a new object.\n"
   ]
  },
  {
   "cell_type": "code",
   "execution_count": 122,
   "metadata": {},
   "outputs": [
    {
     "data": {
      "text/plain": [
       "[1, 3, 5]"
      ]
     },
     "execution_count": 122,
     "metadata": {},
     "output_type": "execute_result"
    }
   ],
   "source": [
    "a = [1, 3, 5]\n",
    "b = a.copy()\n",
    "\n",
    "b[0] = 3\n",
    "\n",
    "a"
   ]
  },
  {
   "cell_type": "code",
   "execution_count": 121,
   "metadata": {},
   "outputs": [
    {
     "data": {
      "text/plain": [
       "[4, 6, 9]"
      ]
     },
     "execution_count": 121,
     "metadata": {},
     "output_type": "execute_result"
    }
   ],
   "source": [
    "a = [4, 6, 9]\n",
    "b = a[:]\n",
    "\n",
    "b[0] = 3\n",
    "\n",
    "a"
   ]
  },
  {
   "cell_type": "markdown",
   "metadata": {},
   "source": [
    "What about nested lists? mutables of mutables?\n",
    "\n",
    "Let's confuse you for a moment:"
   ]
  },
  {
   "cell_type": "code",
   "execution_count": 126,
   "metadata": {},
   "outputs": [
    {
     "data": {
      "text/plain": [
       "[1, 2, [3, 4, 5]]"
      ]
     },
     "execution_count": 126,
     "metadata": {},
     "output_type": "execute_result"
    }
   ],
   "source": [
    "list_of_lists_a = [ 1, 2, [3,4,5]]\n",
    "list_of_lists_b = list_of_lists_a.copy()\n",
    "\n",
    "list_of_lists_b[0] = 3\n",
    "list_of_lists_a"
   ]
  },
  {
   "cell_type": "code",
   "execution_count": 127,
   "metadata": {},
   "outputs": [
    {
     "data": {
      "text/plain": [
       "[1, 2, [3, 4, 'meh']]"
      ]
     },
     "execution_count": 127,
     "metadata": {},
     "output_type": "execute_result"
    }
   ],
   "source": [
    "list_of_lists_b[2][2] = 'meh'\n",
    "list_of_lists_a"
   ]
  },
  {
   "cell_type": "markdown",
   "metadata": {},
   "source": [
    "So, how do we solve that? Using `deepcopy`."
   ]
  },
  {
   "cell_type": "code",
   "execution_count": 129,
   "metadata": {},
   "outputs": [
    {
     "data": {
      "text/plain": [
       "[1, 2, [3, 4, 5]]"
      ]
     },
     "execution_count": 129,
     "metadata": {},
     "output_type": "execute_result"
    }
   ],
   "source": [
    "from copy import deepcopy\n",
    "\n",
    "list_of_lists_a = [ 1, 2, [3,4,5]]\n",
    "list_of_lists_b = deepcopy(list_of_lists_a)\n",
    "\n",
    "list_of_lists_b[2][2] = 'meh'\n",
    "list_of_lists_a"
   ]
  },
  {
   "cell_type": "markdown",
   "metadata": {},
   "source": [
    "If you are in doubt, isolate your function and test it.\n",
    "\n",
    "Immutables are faster to use, slower to change\n",
    "\n",
    "Find out the difference between `==` and `is` by yourself.\n"
   ]
  },
  {
   "cell_type": "markdown",
   "metadata": {},
   "source": [
    "# 4. Documenting Functions\n",
    "\n",
    "Python is quite relaxed on documentation of code. \n",
    "You can have:\n",
    "- no documentation at all\n",
    "- in-line comments\n",
    "- docstring\n",
    "\n",
    "Good thing with documentation, is that it helps you down the road.\n",
    "\n",
    "Also, on some IDEs, Autocompletion benefits from Docstring.\n",
    "\n",
    "Examples: https://sphinxcontrib-napoleon.readthedocs.io/en/latest/example_google.html#example-google"
   ]
  },
  {
   "cell_type": "code",
   "execution_count": 130,
   "metadata": {},
   "outputs": [
    {
     "data": {
      "text/plain": [
       "\u001b[1;31mSignature:\u001b[0m \u001b[0mmultiplication_1\u001b[0m\u001b[1;33m(\u001b[0m\u001b[0ma\u001b[0m\u001b[1;33m,\u001b[0m \u001b[0mb\u001b[0m\u001b[1;33m)\u001b[0m\u001b[1;33m\u001b[0m\u001b[1;33m\u001b[0m\u001b[0m\n",
       "\u001b[1;31mDocstring:\u001b[0m <no docstring>\n",
       "\u001b[1;31mFile:\u001b[0m      c:\\users\\sbrn692\\onedrive - city, university of london\\lectures\\702\\<ipython-input-130-d7662b03c4ec>\n",
       "\u001b[1;31mType:\u001b[0m      function\n"
      ]
     },
     "metadata": {},
     "output_type": "display_data"
    }
   ],
   "source": [
    "def multiplication_1(a, b):\n",
    "    return a*b\n",
    "\n",
    "multiplication_1?"
   ]
  },
  {
   "cell_type": "code",
   "execution_count": 131,
   "metadata": {},
   "outputs": [
    {
     "data": {
      "text/plain": [
       "\u001b[1;31mSignature:\u001b[0m \u001b[0mmultiplication_2\u001b[0m\u001b[1;33m(\u001b[0m\u001b[0ma\u001b[0m\u001b[1;33m,\u001b[0m \u001b[0mb\u001b[0m\u001b[1;33m)\u001b[0m\u001b[1;33m\u001b[0m\u001b[1;33m\u001b[0m\u001b[0m\n",
       "\u001b[1;31mDocstring:\u001b[0m <no docstring>\n",
       "\u001b[1;31mFile:\u001b[0m      c:\\users\\sbrn692\\onedrive - city, university of london\\lectures\\702\\<ipython-input-131-7d0f6d4f8f99>\n",
       "\u001b[1;31mType:\u001b[0m      function\n"
      ]
     },
     "metadata": {},
     "output_type": "display_data"
    }
   ],
   "source": [
    "def multiplication_2(a, b):\n",
    "    # Simple multiplication\n",
    "    return a*b\n",
    "\n",
    "multiplication_2?"
   ]
  },
  {
   "cell_type": "code",
   "execution_count": 132,
   "metadata": {},
   "outputs": [
    {
     "data": {
      "text/plain": [
       "\u001b[1;31mSignature:\u001b[0m \u001b[0mmultiplication_3\u001b[0m\u001b[1;33m(\u001b[0m\u001b[0ma\u001b[0m\u001b[1;33m,\u001b[0m \u001b[0mb\u001b[0m\u001b[1;33m)\u001b[0m\u001b[1;33m\u001b[0m\u001b[1;33m\u001b[0m\u001b[0m\n",
       "\u001b[1;31mDocstring:\u001b[0m\n",
       "Simple multiplication.\n",
       "\n",
       "Arguments: \n",
       "    a: fist factor\n",
       "    b: second factor\n",
       "\u001b[1;31mFile:\u001b[0m      c:\\users\\sbrn692\\onedrive - city, university of london\\lectures\\702\\<ipython-input-132-f26e7a09735e>\n",
       "\u001b[1;31mType:\u001b[0m      function\n"
      ]
     },
     "metadata": {},
     "output_type": "display_data"
    }
   ],
   "source": [
    "def multiplication_3(a, b):\n",
    "    \"\"\" Simple multiplication.\n",
    "    \n",
    "    Arguments: \n",
    "        a: fist factor\n",
    "        b: second factor\n",
    "    \"\"\"\n",
    "    return a*b\n",
    "\n",
    "multiplication_3?"
   ]
  },
  {
   "cell_type": "code",
   "execution_count": 134,
   "metadata": {},
   "outputs": [
    {
     "ename": "NameError",
     "evalue": "name 'mul' is not defined",
     "output_type": "error",
     "traceback": [
      "\u001b[1;31m---------------------------------------------------------------------------\u001b[0m",
      "\u001b[1;31mNameError\u001b[0m                                 Traceback (most recent call last)",
      "\u001b[1;32m<ipython-input-134-b6f78e329905>\u001b[0m in \u001b[0;36m<module>\u001b[1;34m\u001b[0m\n\u001b[1;32m----> 1\u001b[1;33m \u001b[0mmul\u001b[0m\u001b[1;33m\u001b[0m\u001b[1;33m\u001b[0m\u001b[0m\n\u001b[0m",
      "\u001b[1;31mNameError\u001b[0m: name 'mul' is not defined"
     ]
    }
   ],
   "source": [
    "mul"
   ]
  },
  {
   "cell_type": "markdown",
   "metadata": {},
   "source": [
    "# 5 - Other functions\n",
    "\n",
    "I encourage you to look into the different topics related to functions:\n",
    "- lambda\n",
    "- map / reduce / filter\n",
    "- recursion"
   ]
  },
  {
   "cell_type": "markdown",
   "metadata": {},
   "source": [
    "# 6 - Module and packaging\n",
    "\n",
    "Once your functions are developped, you might want to sort them for future reuse.\n",
    "\n",
    "You can create a module by saving functions in a file.\n",
    "\n",
    "Then you can import it directly.\n",
    "\n"
   ]
  },
  {
   "cell_type": "code",
   "execution_count": 137,
   "metadata": {},
   "outputs": [
    {
     "name": "stdout",
     "output_type": "stream",
     "text": [
      "17.181818181818183\n"
     ]
    }
   ],
   "source": [
    "import my_module\n",
    "\n",
    "print(my_module.my_function(1.89))"
   ]
  },
  {
   "cell_type": "markdown",
   "metadata": {},
   "source": [
    "You can also run a module from your terminal:\n",
    "\n",
    "` python my_module.py `\n",
    "\n",
    "Or, from your IDE."
   ]
  },
  {
   "cell_type": "markdown",
   "metadata": {},
   "source": [
    "# 7 - Final words\n",
    "\n",
    "There are many other things related to python functions.\n",
    "\n",
    "Next week: Classes"
   ]
  }
 ],
 "metadata": {
  "kernelspec": {
   "display_name": "Python 3",
   "language": "python",
   "name": "python3"
  },
  "language_info": {
   "codemirror_mode": {
    "name": "ipython",
    "version": 3
   },
   "file_extension": ".py",
   "mimetype": "text/x-python",
   "name": "python",
   "nbconvert_exporter": "python",
   "pygments_lexer": "ipython3",
   "version": "3.8.3"
  }
 },
 "nbformat": 4,
 "nbformat_minor": 4
}

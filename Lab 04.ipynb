{
 "cells": [
  {
   "cell_type": "markdown",
   "metadata": {},
   "source": [
    "# Lab 04\n",
    "\n",
    "In this lab, we will first create a dataset for Linear regression, then build different methods to solve linear regression in 3D.\n",
    "\n",
    "We will go from generating synthetic data to optimizing the parameters of our model and plotting the results."
   ]
  },
  {
   "cell_type": "markdown",
   "metadata": {},
   "source": [
    "## Exercise 1\n",
    "\n",
    "Build a class to generate 3D lines given line parameters, and noise levels:\n",
    "- the noise Eps is Normal centered on 0, with a parameterized variance.\n",
    "- all the generated points are 3D, and in the \\[-10 , 10\\] cube.\n",
    "\n",
    "All points follow the equation:\n",
    "\n",
    "y = a x_0 + b x_1 + c + Eps\n",
    "\n",
    "This class should allow you to generate any number of points.\n",
    "\n",
    "Build a class method that allow you to generate training,  and testing datasets:\n",
    "- the method takes as input the total size of the datast, and the ratio of points used to train (between 0 and 1).\n",
    "\n",
    "Implement a method that allows you to split the training set into minibatches.\n",
    "This method will return lists of successive minibatches of data.\n",
    "Each minibatch will have the same size, and datapoints which are not assigned to the last minibatch will be discarded.\n",
    "\n",
    "Finally, implement a method that allows to display points, as well as :\n",
    "- the actual line that was used to generate the points\n",
    "- an optional additional line\n"
   ]
  },
  {
   "cell_type": "code",
   "execution_count": null,
   "metadata": {},
   "outputs": [],
   "source": [
    "class Line3D:\n",
    "    \n",
    "    def __init__( line_parameters = (2, 4, -1), noise_variance = 1 ):\n",
    "        \n",
    "        ...\n",
    "        \n",
    "    def generate_points(self, N):\n",
    "\n",
    "        # Generate N points\n",
    "    \n",
    "        return points\n",
    "        \n",
    "    def generate_dataset(self, N, ratio_train = 0.6):\n",
    "        \n",
    "        self.X_train = \n",
    "        self.y_train = \n",
    "      \n",
    "        self.X_test = \n",
    "        self.y_test = \n",
    "        \n",
    "    def get_minibatches_train(self, M):\n",
    "        \n",
    "        # pick random points in the training set\n",
    "        \n",
    "        X_minibatch = [ X_1, X_2, ...]\n",
    "        y_minibatch =  ...\n",
    "        \n",
    "        return X_minibatch, y_minibatch\n",
    "    \n",
    "    def plot( self, X, y, additional_line_parameters = None ):\n",
    "        \n",
    "        # plot points\n",
    "        \n",
    "        # plot line\n",
    "        \n",
    "        # optionally, plot additional line\n",
    "        \n",
    "        if additional_line_parameters is not None:\n",
    "            \n",
    "            ...\n",
    "            \n",
    "    "
   ]
  },
  {
   "cell_type": "markdown",
   "metadata": {},
   "source": [
    "## Exercise 2\n",
    "\n",
    "Now, we will solve Linear Regression using the different methods we saw in class.\n",
    "\n",
    "First of all, we will build an Abstract Base Class that will define how all Linear Regression subclasses behave.\n",
    "Some methods are common to all subclasses that we will implement.\n",
    "\n",
    "We will evaluate all our methods using the r2 score.\n",
    "\n"
   ]
  },
  {
   "cell_type": "code",
   "execution_count": 2,
   "metadata": {},
   "outputs": [
    {
     "ename": "NameError",
     "evalue": "name 'ABC' is not defined",
     "output_type": "error",
     "traceback": [
      "\u001b[0;31m---------------------------------------------------------------------------\u001b[0m",
      "\u001b[0;31mNameError\u001b[0m                                 Traceback (most recent call last)",
      "\u001b[0;32m<ipython-input-2-874dd2102678>\u001b[0m in \u001b[0;36m<module>\u001b[0;34m\u001b[0m\n\u001b[0;32m----> 1\u001b[0;31m \u001b[0;32mclass\u001b[0m \u001b[0mLinearRegression\u001b[0m\u001b[0;34m(\u001b[0m\u001b[0mABC\u001b[0m\u001b[0;34m)\u001b[0m\u001b[0;34m:\u001b[0m\u001b[0;34m\u001b[0m\u001b[0;34m\u001b[0m\u001b[0m\n\u001b[0m\u001b[1;32m      2\u001b[0m \u001b[0;34m\u001b[0m\u001b[0m\n\u001b[1;32m      3\u001b[0m     \u001b[0;32mdef\u001b[0m \u001b[0m__init__\u001b[0m\u001b[0;34m(\u001b[0m\u001b[0mself\u001b[0m\u001b[0;34m)\u001b[0m\u001b[0;34m:\u001b[0m\u001b[0;34m\u001b[0m\u001b[0;34m\u001b[0m\u001b[0m\n\u001b[1;32m      4\u001b[0m \u001b[0;34m\u001b[0m\u001b[0m\n\u001b[1;32m      5\u001b[0m         \u001b[0mself\u001b[0m\u001b[0;34m.\u001b[0m\u001b[0mparams\u001b[0m \u001b[0;34m=\u001b[0m \u001b[0;32mNone\u001b[0m\u001b[0;34m\u001b[0m\u001b[0;34m\u001b[0m\u001b[0m\n",
      "\u001b[0;31mNameError\u001b[0m: name 'ABC' is not defined"
     ]
    }
   ],
   "source": [
    "class LinearRegression(ABC):\n",
    "\n",
    "    def __init__(self):\n",
    "        \n",
    "        self.params = None\n",
    "        \n",
    "    def cost(self, X, y):\n",
    "        \n",
    "        calculated_cost = ...\n",
    "        \n",
    "        return calculated_cost\n",
    "        \n",
    "    @abstractmethod\n",
    "    def fit(self, X, y):\n",
    "        # each subclass will reimplement this\n",
    "        pass\n",
    "    \n",
    "    def predict(self, X):\n",
    "        \n",
    "        ...\n",
    "        \n",
    "        return y_pred\n",
    "    \n",
    "    def evaluate(self, X_test, y_test):\n",
    "        \n",
    "        y_pred = ...\n",
    "        \n",
    "        r2 = ...\n",
    "        \n",
    "        return r2\n",
    "    \n",
    "    def plot(self, X, y):\n",
    "        \n",
    "        # plot the points with the line defined by the current parameters."
   ]
  },
  {
   "cell_type": "markdown",
   "metadata": {},
   "source": [
    "Now that the Base class is defined, we can create different subclasses that implement the appraoches we saw during the Lecture."
   ]
  },
  {
   "cell_type": "code",
   "execution_count": null,
   "metadata": {},
   "outputs": [],
   "source": [
    "class OrdinaryLeastSquare(LinearRegression):\n",
    "    \n",
    "    def fit(self, X, y):\n",
    "        \n",
    "        ...\n",
    "        \n",
    "class GradientDescent(LinearRegression):\n",
    "    \n",
    "    def __init__(self, learning_rate):\n",
    "        ...\n",
    "    \n",
    "    def fit(self, X_train, y_train, number_epochs ):\n",
    "        \n",
    "        cost_history = []\n",
    "        start_params = random...\n",
    "        \n",
    "        for e in epochs:\n",
    "            \n",
    "            # update params\n",
    "            ...\n",
    "            \n",
    "        return cost_history\n",
    "    \n",
    "class StochasticGradientDescent(GradientDescent):\n",
    "    \n",
    "    def fit(self, minibatches, number_epochs):\n",
    "        \n",
    "        # We can use the fact that we already implemented the update rule!\n",
    "        \n",
    "        cost_history_epochs = []\n",
    "        cost_history_updates []\n",
    "        \n",
    "        start_params = random...\n",
    "        \n",
    "        for e in epochs:\n",
    "            \n",
    "            for X_train_mini, y_train_mini in minibatches:\n",
    "                \n",
    "                cost_history_minibatch = super().fit(X_train_mini, y_train_mini, number_epoch = 1)\n",
    "                \n",
    "                # Only one element in \n",
    "                cost_history_updates.append( cost_history_minibatch[0] )\n",
    "                \n",
    "            cost_history_epochs.append(...)\n",
    "                \n",
    "            \n",
    "        \n",
    "        "
   ]
  },
  {
   "cell_type": "code",
   "execution_count": null,
   "metadata": {},
   "outputs": [],
   "source": []
  },
  {
   "cell_type": "markdown",
   "metadata": {},
   "source": [
    "## Exercise 3\n",
    "\n",
    "Solve the linear regression problem for different values of line parameters.\n",
    "\n",
    "Compare the speed of convergence of different approaches depending on the learning rate.\n",
    "\n",
    "What happens if the learning rate is too high?\n",
    "\n"
   ]
  },
  {
   "cell_type": "markdown",
   "metadata": {},
   "source": [
    "## Exercise 4\n",
    "\n",
    "Use scikit-learn to verify that you obtain the same results."
   ]
  },
  {
   "cell_type": "code",
   "execution_count": null,
   "metadata": {},
   "outputs": [],
   "source": []
  }
 ],
 "metadata": {
  "kernelspec": {
   "display_name": "Python 3",
   "language": "python",
   "name": "python3"
  },
  "language_info": {
   "codemirror_mode": {
    "name": "ipython",
    "version": 3
   },
   "file_extension": ".py",
   "mimetype": "text/x-python",
   "name": "python",
   "nbconvert_exporter": "python",
   "pygments_lexer": "ipython3",
   "version": "3.6.9"
  }
 },
 "nbformat": 4,
 "nbformat_minor": 2
}

{
 "cells": [
  {
   "cell_type": "markdown",
   "metadata": {},
   "source": [
    "# Classes"
   ]
  },
  {
   "cell_type": "code",
   "execution_count": 35,
   "metadata": {},
   "outputs": [],
   "source": [
    "class WritingTool:\n",
    "    \n",
    "    tool_type = 'default'\n",
    "    \n",
    "    def __init__(self, location):\n",
    "        self.location = location\n",
    "    \n",
    "    def draw(self, string):\n",
    "        print(string)\n",
    "        \n",
    "    def move_to(self, new_location):\n",
    "        self.location = new_location\n",
    "        \n",
    "    def where_is_it(self):\n",
    "        print(self.location)\n",
    "        \n",
    "    "
   ]
  },
  {
   "cell_type": "code",
   "execution_count": 36,
   "metadata": {},
   "outputs": [
    {
     "name": "stdout",
     "output_type": "stream",
     "text": [
      "I love cheese\n"
     ]
    }
   ],
   "source": [
    "writing_tool = WritingTool(location='pocket')\n",
    "\n",
    "writing_tool.draw('I love cheese')\n"
   ]
  },
  {
   "cell_type": "code",
   "execution_count": 37,
   "metadata": {},
   "outputs": [
    {
     "name": "stdout",
     "output_type": "stream",
     "text": [
      "table\n"
     ]
    }
   ],
   "source": [
    "writing_tool.move_to('table')\n",
    "writing_tool.where_is_it()"
   ]
  },
  {
   "cell_type": "code",
   "execution_count": 38,
   "metadata": {},
   "outputs": [
    {
     "data": {
      "text/plain": [
       "'table'"
      ]
     },
     "execution_count": 38,
     "metadata": {},
     "output_type": "execute_result"
    }
   ],
   "source": [
    "writing_tool.location"
   ]
  },
  {
   "cell_type": "markdown",
   "metadata": {},
   "source": [
    "# Private Methods and Attributes"
   ]
  },
  {
   "cell_type": "code",
   "execution_count": 44,
   "metadata": {},
   "outputs": [
    {
     "ename": "AttributeError",
     "evalue": "'Test' object has no attribute '__multiply_10'",
     "output_type": "error",
     "traceback": [
      "\u001b[0;31m---------------------------------------------------------------------------\u001b[0m",
      "\u001b[0;31mAttributeError\u001b[0m                            Traceback (most recent call last)",
      "\u001b[0;32m<ipython-input-44-b49e418fb308>\u001b[0m in \u001b[0;36m<module>\u001b[0;34m\u001b[0m\n\u001b[1;32m     10\u001b[0m \u001b[0;34m\u001b[0m\u001b[0m\n\u001b[1;32m     11\u001b[0m \u001b[0mtest\u001b[0m \u001b[0;34m=\u001b[0m \u001b[0mTest\u001b[0m\u001b[0;34m(\u001b[0m\u001b[0;34m)\u001b[0m\u001b[0;34m\u001b[0m\u001b[0;34m\u001b[0m\u001b[0m\n\u001b[0;32m---> 12\u001b[0;31m \u001b[0mtest\u001b[0m\u001b[0;34m.\u001b[0m\u001b[0m__multiply_10\u001b[0m\u001b[0;34m(\u001b[0m\u001b[0;34m)\u001b[0m\u001b[0;34m\u001b[0m\u001b[0;34m\u001b[0m\u001b[0m\n\u001b[0m",
      "\u001b[0;31mAttributeError\u001b[0m: 'Test' object has no attribute '__multiply_10'"
     ]
    }
   ],
   "source": [
    "class Test:\n",
    "    \n",
    "    def __init__(self):\n",
    "        \n",
    "        self.__a = 10\n",
    "        \n",
    "    def __multiply_10(self):\n",
    "        \n",
    "        return self.__a*10\n",
    "        \n",
    "test = Test()\n",
    "test.__multiply_10()\n"
   ]
  },
  {
   "cell_type": "markdown",
   "metadata": {},
   "source": [
    "# Inheritance"
   ]
  },
  {
   "cell_type": "code",
   "execution_count": 45,
   "metadata": {},
   "outputs": [],
   "source": [
    "class Sharpie(WritingTool):\n",
    "    \n",
    "    def fat_draw(self, string):\n",
    "        \n",
    "        up_string = string.upper()\n",
    "        \n",
    "        self.draw(up_string)"
   ]
  },
  {
   "cell_type": "code",
   "execution_count": 47,
   "metadata": {},
   "outputs": [
    {
     "name": "stdout",
     "output_type": "stream",
     "text": [
      "STUFF\n"
     ]
    }
   ],
   "source": [
    "sharpie = Sharpie(location='drawer')\n",
    "sharpie.fat_draw('stuff')"
   ]
  },
  {
   "cell_type": "code",
   "execution_count": 57,
   "metadata": {},
   "outputs": [],
   "source": [
    "class JackHammer(WritingTool):\n",
    "    \n",
    "    def __init__(self, battery, location):\n",
    "        \n",
    "        super().__init__(location)\n",
    "        \n",
    "        self.battery = battery\n",
    "        \n",
    "    def draw(self, string):\n",
    "        \n",
    "        if self.battery > 0:\n",
    "            \n",
    "            super().draw(string)\n",
    "            self.battery -= 1\n",
    "            \n",
    "        else:\n",
    "            print( 'brrr brrr... No more energy! ')\n",
    "            \n",
    "    def recharge(self, energy):\n",
    "        self.battery += energy\n",
    "            "
   ]
  },
  {
   "cell_type": "code",
   "execution_count": 58,
   "metadata": {},
   "outputs": [
    {
     "name": "stdout",
     "output_type": "stream",
     "text": [
      "The answer to \n",
      "The Ultimate Question of Life,\n",
      "the Universe, and Everything, is\n",
      "brrr brrr... No more energy! \n"
     ]
    }
   ],
   "source": [
    "jack = JackHammer(3, 'toolbox')\n",
    "\n",
    "jack.draw('The answer to ')\n",
    "jack.draw('The Ultimate Question of Life,')\n",
    "jack.draw('the Universe, and Everything, is')\n",
    "jack.draw('42')"
   ]
  },
  {
   "cell_type": "code",
   "execution_count": 59,
   "metadata": {},
   "outputs": [],
   "source": [
    "jack.recharge(10)"
   ]
  },
  {
   "cell_type": "code",
   "execution_count": 60,
   "metadata": {},
   "outputs": [
    {
     "name": "stdout",
     "output_type": "stream",
     "text": [
      "feeling better\n"
     ]
    }
   ],
   "source": [
    "jack.draw('feeling better')"
   ]
  },
  {
   "cell_type": "markdown",
   "metadata": {},
   "source": [
    "# Class attributes and instance attributes"
   ]
  },
  {
   "cell_type": "code",
   "execution_count": 74,
   "metadata": {},
   "outputs": [
    {
     "data": {
      "text/plain": [
       "True"
      ]
     },
     "execution_count": 74,
     "metadata": {},
     "output_type": "execute_result"
    }
   ],
   "source": [
    "class Notebook:\n",
    "    \n",
    "    number_pages = 100\n",
    "    size_page = 'A4'\n",
    "    starting_page = 0\n",
    "    \n",
    "    def __init__(self, name, lined):\n",
    "        \n",
    "        self.owner = name\n",
    "        self.lined = lined\n",
    "        \n",
    "class LinedNotebook(Notebook):\n",
    "    \n",
    "    def __init__(self, name):\n",
    "        \n",
    "        super().__init__(name, lined = True)\n",
    "        \n",
    "mole = LinedNotebook('my_journal')\n",
    "mole.lined"
   ]
  },
  {
   "cell_type": "markdown",
   "metadata": {},
   "source": [
    "# Caution"
   ]
  },
  {
   "cell_type": "code",
   "execution_count": 78,
   "metadata": {},
   "outputs": [
    {
     "data": {
      "text/plain": [
       "{'bada': 42, 'boom': 21}"
      ]
     },
     "execution_count": 78,
     "metadata": {},
     "output_type": "execute_result"
    }
   ],
   "source": [
    "class UnexpectedMutation:\n",
    "    \n",
    "    class_attribute_1 = {}\n",
    "    \n",
    "    def __init__(self):\n",
    "        \n",
    "        self.instance_attribute_1 = 0\n",
    "        \n",
    "a = UnexpectedMutation()\n",
    "a.class_attribute_1['bada'] = 42\n",
    "\n",
    "b = UnexpectedMutation()\n",
    "b.class_attribute_1['boom'] = 21\n",
    "\n",
    "a.class_attribute_1"
   ]
  },
  {
   "cell_type": "code",
   "execution_count": 84,
   "metadata": {},
   "outputs": [
    {
     "data": {
      "text/plain": [
       "23"
      ]
     },
     "execution_count": 84,
     "metadata": {},
     "output_type": "execute_result"
    }
   ],
   "source": [
    "class ExpectedNonMutation:\n",
    "    \n",
    "    class_attribute_1 = 0\n",
    "\n",
    "a = ExpectedNonMutation()\n",
    "a.class_attribute_1 = 23\n",
    "a.class_attribute_1"
   ]
  },
  {
   "cell_type": "code",
   "execution_count": 85,
   "metadata": {},
   "outputs": [
    {
     "data": {
      "text/plain": [
       "0"
      ]
     },
     "execution_count": 85,
     "metadata": {},
     "output_type": "execute_result"
    }
   ],
   "source": [
    "b = ExpectedNonMutation()\n",
    "b.class_attribute_1"
   ]
  },
  {
   "cell_type": "markdown",
   "metadata": {},
   "source": [
    "# Operating on instances"
   ]
  },
  {
   "cell_type": "code",
   "execution_count": 72,
   "metadata": {},
   "outputs": [],
   "source": [
    "class Journal:\n",
    "    \n",
    "    current_line = 0\n",
    "    \n",
    "    def __init__(self):\n",
    "        \n",
    "        self.lines = {}\n",
    "    \n",
    "    def log(self, date, message):\n",
    "        \n",
    "        self.lines[date] = message\n",
    "    \n",
    "    "
   ]
  },
  {
   "cell_type": "code",
   "execution_count": 73,
   "metadata": {},
   "outputs": [
    {
     "name": "stdout",
     "output_type": "stream",
     "text": [
      "[<__main__.Journal object at 0x7f95f8319d68>, <__main__.Journal object at 0x7f95f83199e8>, <__main__.Journal object at 0x7f95f8319128>, <__main__.Journal object at 0x7f95f83190b8>, <__main__.Journal object at 0x7f95f8319b38>, <__main__.Journal object at 0x7f95f8319828>, <__main__.Journal object at 0x7f95f8319748>, <__main__.Journal object at 0x7f95f82a8c88>, <__main__.Journal object at 0x7f95f82a8a90>]\n",
      "{0: 'strange day', 9: 'strange day', 18: 'strange day', 27: 'strange day', 36: 'strange day', 45: 'strange day', 54: 'strange day', 63: 'strange day', 72: 'strange day', 81: 'strange day', 90: 'strange day', 99: 'strange day', 108: 'strange day', 117: 'strange day', 126: 'strange day', 135: 'strange day', 144: 'strange day', 153: 'strange day', 162: 'strange day', 171: 'strange day', 180: 'strange day', 189: 'strange day', 198: 'strange day', 207: 'strange day', 216: 'strange day', 225: 'strange day', 234: 'strange day', 243: 'strange day', 252: 'strange day', 261: 'strange day', 270: 'strange day', 279: 'strange day', 288: 'strange day', 297: 'strange day', 306: 'strange day', 315: 'strange day', 324: 'strange day', 333: 'strange day', 342: 'strange day', 351: 'strange day', 360: 'strange day', 369: 'strange day', 378: 'strange day', 387: 'strange day', 396: 'strange day', 405: 'strange day', 414: 'strange day', 423: 'strange day', 432: 'strange day', 441: 'strange day', 450: 'strange day', 459: 'strange day', 468: 'strange day', 477: 'strange day', 486: 'strange day', 495: 'strange day', 504: 'strange day', 513: 'strange day', 522: 'strange day', 531: 'strange day', 540: 'strange day', 549: 'strange day', 558: 'strange day', 567: 'strange day', 576: 'strange day', 585: 'strange day', 594: 'strange day'}\n"
     ]
    }
   ],
   "source": [
    "all_journals = []\n",
    "for i in range(9):\n",
    "    all_journals.append( Journal() )\n",
    "\n",
    "print(all_journals)\n",
    "\n",
    "for day in range(600):\n",
    "    \n",
    "    journal = all_journals[day%len(all_journals)]\n",
    "    journal.log(day, 'strange day')\n",
    "    \n",
    "print(all_journals[0].lines)"
   ]
  },
  {
   "cell_type": "code",
   "execution_count": null,
   "metadata": {},
   "outputs": [],
   "source": []
  }
 ],
 "metadata": {
  "kernelspec": {
   "display_name": "Python 3",
   "language": "python",
   "name": "python3"
  },
  "language_info": {
   "codemirror_mode": {
    "name": "ipython",
    "version": 3
   },
   "file_extension": ".py",
   "mimetype": "text/x-python",
   "name": "python",
   "nbconvert_exporter": "python",
   "pygments_lexer": "ipython3",
   "version": "3.8.3"
  }
 },
 "nbformat": 4,
 "nbformat_minor": 2
}

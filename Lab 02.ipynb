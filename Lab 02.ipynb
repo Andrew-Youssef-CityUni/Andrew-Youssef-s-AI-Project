{
 "cells": [
  {
   "cell_type": "markdown",
   "metadata": {},
   "source": [
    "# Lab 02 - Epic Robot Battles\n",
    "\n",
    "In the following exercises, we will build robots and make them fight against each other!\n",
    "We will first build a generic class robot, that we will improve step by step.\n",
    "\n",
    "\n",
    "All robots in the battlefield are different. But, they have common attributes:\n",
    "- a number of initial_health_points \n",
    "- a quantity of initial_energy\n",
    "\n",
    "As these are set as rules of the game, we are going to define them as constants for the Lab.\n",
    "One option is to define them as global variables, or we can use Enum."
   ]
  },
  {
   "cell_type": "code",
   "execution_count": 11,
   "metadata": {},
   "outputs": [
    {
     "data": {
      "text/plain": [
       "<GameRules.INITIAL_HEALTH_POINTS: 1000>"
      ]
     },
     "execution_count": 11,
     "metadata": {},
     "output_type": "execute_result"
    }
   ],
   "source": [
    "from enum import IntEnum\n",
    "\n",
    "class GameRules(IntEnum):\n",
    "    INITIAL_HEALTH_POINTS = 1000\n",
    "    INITIAL_ENERGY = 1000\n",
    "    \n",
    "GameRules.INITIAL_ENERGY"
   ]
  },
  {
   "cell_type": "markdown",
   "metadata": {},
   "source": [
    "At each turn of a battle, each robot makes an action.\n",
    "\n",
    "# Exercise 1: Build the Robot class\n",
    "\n",
    "The first step is to build a simple robot class.\n",
    "\n",
    "Robot will fight with each other. \n",
    "Basic robot have these charactersistics:\n",
    "- they inflict 5 damages when they hit (force = 5)\n",
    "- they have a 10% chance of failing at an attack (fail_percentage = 10)\n",
    "\n",
    "Robot can do certain actions:\n",
    "- attack: takes 1 of energy\n",
    "\n",
    "Depending on the action of the opponent, they might decide on the action to take.\n",
    "\n",
    "Once a battle is finished, we can reset the energy and health points to their initial values.\n",
    "\n",
    "Finish this skeleton of the Robot class:\n"
   ]
  },
  {
   "cell_type": "code",
   "execution_count": 13,
   "metadata": {},
   "outputs": [],
   "source": [
    "import random\n",
    "\n",
    "class RobotPoints(IntEnum):\n",
    "    FORCE = 5\n",
    "    FAIL_PERCENTAGE = 10\n",
    "    \n",
    "class Robot:\n",
    "    \n",
    "    def __init__(self, name):\n",
    "        \n",
    "        self.name = name\n",
    "        \n",
    "        self.initial_energy = GameRules.INITIAL_ENERGY\n",
    "        self.initial_health_points = GameRules.INITIAL_HEALTH_POINTS\n",
    "        \n",
    "        self.force = RobotPoints.FORCE\n",
    "        self.fail_percentage = RobotPoints.FAIL_PERCENTAGE\n",
    "        \n",
    "        self.energy = self.initial_energy\n",
    "        self.health_points = self.initial_health_points\n",
    "    \n",
    "    def decide_on_action(self, incoming_damage):\n",
    "        # for now, robots will be very dumb and always attack.\n",
    "        \n",
    "        if energy > 0:\n",
    "            attack_strenght = self.attack()\n",
    "        \n",
    "        return attack_strenght\n",
    "        \n",
    "    def attack(self):\n",
    "        \n",
    "        self.energy -= 1\n",
    "        \n",
    "        if random.randint(0, 100) < self.FAIL_PERCENTAGE:\n",
    "            return 0\n",
    "        \n",
    "        return self.force\n",
    "    \n",
    "    def reset(self):\n",
    "        #fill this\n",
    "        pass"
   ]
  },
  {
   "cell_type": "markdown",
   "metadata": {},
   "source": [
    "# Exercise 2: Game engine\n",
    "\n",
    "Now, we will build a Battle ring.\n",
    "This is a Class, that takes as arguments two robots, and make them battle.\n",
    "- selects randomly a robot which starts \n",
    "- iterate actions until the end\n",
    "\n",
    "The robot performs actions until either:\n",
    "- one robot has no health points left\n",
    "- two robots don't have energy left\n",
    "\n",
    "Then, proclaim a winner: the one with more health points left.\n",
    "\n",
    "Complete the following class:"
   ]
  },
  {
   "cell_type": "code",
   "execution_count": 17,
   "metadata": {},
   "outputs": [],
   "source": [
    "class Battle:\n",
    "    \n",
    "    def __init__(self, robot_1, robot_2):\n",
    "        \n",
    "        self.robot_1 = robot_1\n",
    "        self.robot_2 = robot_2\n",
    "        \n",
    "        # select first robot \n",
    "        self.current_acting_robot = random.choice( ... )\n",
    "        \n",
    "    def battle_ended(self):\n",
    "        # returns True if the battle has finished\n",
    "        pass\n",
    "    \n",
    "    def announce_winner(self):\n",
    "        # Print the result of the battle, who is the winner with how many points\n",
    "        # returns the winner\n",
    "        \n",
    "        pass\n",
    "    \n",
    "    def battle_until_the_end(self):\n",
    "        \n",
    "        battle_ongoing = True\n",
    "        \n",
    "        #first action is initialized as an attack with 0 damage\n",
    "        \n",
    "        attack_points = 0\n",
    "        \n",
    "        while battle_ongoing:\n",
    "            \n",
    "            # inflict damages on the current robot\n",
    "            # the current robot produces new_damages\n",
    "            \n",
    "            new_attack_points = self.current_acting_robot.decide_on_action(attack_points)\n",
    "            \n",
    "            # Change the current_acting_robot. If it was robot_1, then now it is robot_2\n",
    "            \n",
    "            \n",
    "            # Check if battle ended\n",
    "            if battle_ended is True:\n",
    "                battle_ongoing = False\n",
    "                \n",
    "            # Set the damage points sent by the previous robot.\n",
    "            attack_points = new_attack_points\n",
    "            \n",
    "            \n",
    "        winner = self.announce_winner()\n",
    "        \n",
    "        return winner\n",
    "        \n",
    "            "
   ]
  },
  {
   "cell_type": "code",
   "execution_count": 21,
   "metadata": {},
   "outputs": [
    {
     "ename": "TypeError",
     "evalue": "object of type 'ellipsis' has no len()",
     "output_type": "error",
     "traceback": [
      "\u001b[0;31m---------------------------------------------------------------------------\u001b[0m",
      "\u001b[0;31mTypeError\u001b[0m                                 Traceback (most recent call last)",
      "\u001b[0;32m<ipython-input-21-28c7ebe153cf>\u001b[0m in \u001b[0;36m<module>\u001b[0;34m\u001b[0m\n\u001b[1;32m      4\u001b[0m \u001b[0mrobot_2\u001b[0m \u001b[0;34m=\u001b[0m \u001b[0mRobot\u001b[0m\u001b[0;34m(\u001b[0m\u001b[0;34m'donald'\u001b[0m\u001b[0;34m)\u001b[0m\u001b[0;34m\u001b[0m\u001b[0;34m\u001b[0m\u001b[0m\n\u001b[1;32m      5\u001b[0m \u001b[0;34m\u001b[0m\u001b[0m\n\u001b[0;32m----> 6\u001b[0;31m \u001b[0mbattleground\u001b[0m \u001b[0;34m=\u001b[0m \u001b[0mBattle\u001b[0m\u001b[0;34m(\u001b[0m\u001b[0mrobot_1\u001b[0m\u001b[0;34m,\u001b[0m \u001b[0mrobot_2\u001b[0m\u001b[0;34m)\u001b[0m\u001b[0;34m\u001b[0m\u001b[0;34m\u001b[0m\u001b[0m\n\u001b[0m\u001b[1;32m      7\u001b[0m \u001b[0mbattleground\u001b[0m\u001b[0;34m.\u001b[0m\u001b[0mbattle_until_the_end\u001b[0m\u001b[0;34m(\u001b[0m\u001b[0;34m)\u001b[0m\u001b[0;34m\u001b[0m\u001b[0;34m\u001b[0m\u001b[0m\n",
      "\u001b[0;32m<ipython-input-17-6021027b8f30>\u001b[0m in \u001b[0;36m__init__\u001b[0;34m(self, robot_1, robot_2)\u001b[0m\n\u001b[1;32m      7\u001b[0m \u001b[0;34m\u001b[0m\u001b[0m\n\u001b[1;32m      8\u001b[0m         \u001b[0;31m# select first robot\u001b[0m\u001b[0;34m\u001b[0m\u001b[0;34m\u001b[0m\u001b[0;34m\u001b[0m\u001b[0m\n\u001b[0;32m----> 9\u001b[0;31m         \u001b[0mself\u001b[0m\u001b[0;34m.\u001b[0m\u001b[0mcurrent_acting_robot\u001b[0m \u001b[0;34m=\u001b[0m \u001b[0mrandom\u001b[0m\u001b[0;34m.\u001b[0m\u001b[0mchoice\u001b[0m\u001b[0;34m(\u001b[0m \u001b[0;34m...\u001b[0m \u001b[0;34m)\u001b[0m\u001b[0;34m\u001b[0m\u001b[0;34m\u001b[0m\u001b[0m\n\u001b[0m\u001b[1;32m     10\u001b[0m \u001b[0;34m\u001b[0m\u001b[0m\n\u001b[1;32m     11\u001b[0m     \u001b[0;32mdef\u001b[0m \u001b[0mbattle_ended\u001b[0m\u001b[0;34m(\u001b[0m\u001b[0mself\u001b[0m\u001b[0;34m)\u001b[0m\u001b[0;34m:\u001b[0m\u001b[0;34m\u001b[0m\u001b[0;34m\u001b[0m\u001b[0m\n",
      "\u001b[0;32m/usr/lib/python3.6/random.py\u001b[0m in \u001b[0;36mchoice\u001b[0;34m(self, seq)\u001b[0m\n\u001b[1;32m    256\u001b[0m         \u001b[0;34m\"\"\"Choose a random element from a non-empty sequence.\"\"\"\u001b[0m\u001b[0;34m\u001b[0m\u001b[0;34m\u001b[0m\u001b[0m\n\u001b[1;32m    257\u001b[0m         \u001b[0;32mtry\u001b[0m\u001b[0;34m:\u001b[0m\u001b[0;34m\u001b[0m\u001b[0;34m\u001b[0m\u001b[0m\n\u001b[0;32m--> 258\u001b[0;31m             \u001b[0mi\u001b[0m \u001b[0;34m=\u001b[0m \u001b[0mself\u001b[0m\u001b[0;34m.\u001b[0m\u001b[0m_randbelow\u001b[0m\u001b[0;34m(\u001b[0m\u001b[0mlen\u001b[0m\u001b[0;34m(\u001b[0m\u001b[0mseq\u001b[0m\u001b[0;34m)\u001b[0m\u001b[0;34m)\u001b[0m\u001b[0;34m\u001b[0m\u001b[0;34m\u001b[0m\u001b[0m\n\u001b[0m\u001b[1;32m    259\u001b[0m         \u001b[0;32mexcept\u001b[0m \u001b[0mValueError\u001b[0m\u001b[0;34m:\u001b[0m\u001b[0;34m\u001b[0m\u001b[0;34m\u001b[0m\u001b[0m\n\u001b[1;32m    260\u001b[0m             \u001b[0;32mraise\u001b[0m \u001b[0mIndexError\u001b[0m\u001b[0;34m(\u001b[0m\u001b[0;34m'Cannot choose from an empty sequence'\u001b[0m\u001b[0;34m)\u001b[0m \u001b[0;32mfrom\u001b[0m \u001b[0;32mNone\u001b[0m\u001b[0;34m\u001b[0m\u001b[0;34m\u001b[0m\u001b[0m\n",
      "\u001b[0;31mTypeError\u001b[0m: object of type 'ellipsis' has no len()"
     ]
    }
   ],
   "source": [
    "# Now we can test it!\n",
    "\n",
    "robot_1 = Robot('spock')\n",
    "robot_2 = Robot('donald')\n",
    "\n",
    "battleground = Battle(robot_1, robot_2)\n",
    "battleground.battle_until_the_end()"
   ]
  },
  {
   "cell_type": "markdown",
   "metadata": {},
   "source": [
    "# Exercise 3: Inheritance\n",
    "\n",
    "Create a class StrongBot(Robot):\n",
    "- it accepts brutality as an argument, to increase the original strength by the number of brutality point\n",
    "- any additional brutality point increases the energy required to attack by 0.5 points\n",
    "- make it compete with a classic Robot, and verify that it kicks its bolts.\n",
    "\n",
    "Create a class CleverBot(Robot):\n",
    "- it can choose to either attack or dodge\n",
    "- it can dodge with a probbility of 3/10. dodging takes two energy point\n",
    "- it accepts an additional argument named intelligence. For each intelligence point, it raises the dodging probability (3/10, 4/10, 5/10)\n",
    "- when attacked, it dodges, else it attacks\n",
    "\n",
    "Make StrongBot and CleverBot fight. Who wins, depending on the intelligence and brutality?\n",
    "\n",
    "Here, it can be interesting to check matplotlib Gallery to see how you can plot this result."
   ]
  },
  {
   "cell_type": "code",
   "execution_count": null,
   "metadata": {},
   "outputs": [],
   "source": []
  }
 ],
 "metadata": {
  "kernelspec": {
   "display_name": "Python 3",
   "language": "python",
   "name": "python3"
  },
  "language_info": {
   "codemirror_mode": {
    "name": "ipython",
    "version": 3
   },
   "file_extension": ".py",
   "mimetype": "text/x-python",
   "name": "python",
   "nbconvert_exporter": "python",
   "pygments_lexer": "ipython3",
   "version": "3.8.3"
  }
 },
 "nbformat": 4,
 "nbformat_minor": 4
}

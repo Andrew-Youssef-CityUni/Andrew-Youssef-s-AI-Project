{
 "cells": [
  {
   "cell_type": "markdown",
   "metadata": {
    "deletable": true,
    "editable": true
   },
   "source": [
    "# Lab 01 - Linear Algebra\n",
    "\n",
    "In the following exercises, you are allowed to use the libraries math and matplotlib.\n",
    "\n",
    "Let say that 2D vectors are represented as tuples.\n",
    "\n",
    "The basis vector of our 2D space are then:"
   ]
  },
  {
   "cell_type": "code",
   "execution_count": 1,
   "metadata": {
    "collapsed": true,
    "deletable": true,
    "editable": true,
    "jupyter": {
     "outputs_hidden": true
    }
   },
   "outputs": [],
   "source": [
    "i = (1, 0)\n",
    "j = (0, 1)"
   ]
  },
  {
   "cell_type": "markdown",
   "metadata": {
    "deletable": true,
    "editable": true
   },
   "source": [
    "Matrices are represented as tuples of tuples.\n",
    "\n",
    "The identity matrix is therefore:"
   ]
  },
  {
   "cell_type": "code",
   "execution_count": 19,
   "metadata": {
    "collapsed": false,
    "deletable": true,
    "editable": true,
    "jupyter": {
     "outputs_hidden": false
    }
   },
   "outputs": [
    {
     "data": {
      "text/plain": [
       "1"
      ]
     },
     "execution_count": 19,
     "metadata": {},
     "output_type": "execute_result"
    }
   ],
   "source": [
    "I = ((1, 0), (0, 1))\n",
    "\n",
    "I[0][0]"
   ]
  },
  {
   "cell_type": "markdown",
   "metadata": {},
   "source": [
    "Important: without any additional instruction on my side, you could have decided to index matrices as row-first or column-first indexing. It is more standard in mathematics and also in python/numpy (for later) to do row-first indexing.\n",
    "\n",
    "So A[2, 5] would correspond to row 2 (3rd row, as indexing start at 0), and column 5."
   ]
  },
  {
   "cell_type": "code",
   "execution_count": 12,
   "metadata": {},
   "outputs": [],
   "source": [
    "import matplotlib.pyplot as plt"
   ]
  },
  {
   "cell_type": "markdown",
   "metadata": {
    "deletable": true,
    "editable": true
   },
   "source": [
    "# Exercise 1 : vectors\n",
    "\n",
    "1. Write a function that returns the length of a vector.\n",
    "\n",
    "2. Write a function that returns the dot product between two vectors.\n",
    "\n",
    "3. Write a function to plot a list of vectors using matplotlib."
   ]
  },
  {
   "cell_type": "code",
   "execution_count": 9,
   "metadata": {},
   "outputs": [],
   "source": [
    "def vector_length(a):\n",
    "    \n",
    "    return (a[0]**2 + a[1]**2)**(1/2)\n",
    "\n",
    "# Here I use assert to check that my calculations are correct on well known examples\n",
    "assert vector_length( (3,4) ) == 5\n",
    "assert vector_length( (1,0) ) == 1"
   ]
  },
  {
   "cell_type": "code",
   "execution_count": 11,
   "metadata": {},
   "outputs": [],
   "source": [
    "def dot(a,b):\n",
    "    \n",
    "    return a[0]*b[0] + a[1]*b[1]\n",
    "\n",
    "assert dot( (1,0), (2,0)) == 2\n",
    "assert dot( (1,0), (0,1)) == 0"
   ]
  },
  {
   "cell_type": "code",
   "execution_count": 17,
   "metadata": {},
   "outputs": [
    {
     "data": {
      "image/png": "[encoded data removed]",
      "text/plain": [
       "<Figure size 432x288 with 1 Axes>"
      ]
     },
     "metadata": {
      "needs_background": "light"
     },
     "output_type": "display_data"
    }
   ],
   "source": [
    "def plot_vectors( list_vectors ):\n",
    "    \n",
    "    for vector in list_vectors:\n",
    "        plt.arrow(0, 0, vector[0], vector[1], head_width=0.2)\n",
    "        \n",
    "    plt.show()\n",
    "    \n",
    "vectors = [ (0,1), (1,0), (2,4), (-3, -7)]\n",
    "plot_vectors( vectors )"
   ]
  },
  {
   "cell_type": "markdown",
   "metadata": {
    "deletable": true,
    "editable": true
   },
   "source": [
    "# Exercise 2 : matrices\n",
    "\n",
    "1. Write a function that calculates the determinant of a matrix.\n",
    "\n",
    "2. Write a function that calculates the product between a matrix and a vector (do you need one or two functions?).\n",
    "\n",
    "3. Write a function that calculates the inverse of a matrix (if it exists)."
   ]
  },
  {
   "cell_type": "code",
   "execution_count": 21,
   "metadata": {},
   "outputs": [],
   "source": [
    "def determinant(a):\n",
    "    \n",
    "    return a[0][0] * a[1][1] - a[0][1] * a[1][0]\n",
    "\n",
    "assert determinant(I) == 1"
   ]
  },
  {
   "cell_type": "code",
   "execution_count": 24,
   "metadata": {},
   "outputs": [
    {
     "data": {
      "text/plain": [
       "(17, 39)"
      ]
     },
     "execution_count": 24,
     "metadata": {},
     "output_type": "execute_result"
    }
   ],
   "source": [
    "def matrix_vector_product(matrix, vector):\n",
    "    \n",
    "    # let's reuse the dot product\n",
    "    return (dot(matrix[0], vector), dot(matrix[1], vector) )\n",
    "    \n",
    "mat_a = ( (1,2), (3,4))\n",
    "vec_b = (5,6)\n",
    "matrix_vector_product(mat_a, vec_b)"
   ]
  },
  {
   "cell_type": "code",
   "execution_count": 30,
   "metadata": {},
   "outputs": [
    {
     "data": {
      "text/plain": [
       "((1.0, 0.0), (0.0, 1.0))"
      ]
     },
     "execution_count": 30,
     "metadata": {},
     "output_type": "execute_result"
    }
   ],
   "source": [
    "def matmul(a,b):\n",
    "    \n",
    "    b_0 = (b[0][0], b[1][0])\n",
    "    b_1 = (b[0][1], b[1][1])\n",
    "    \n",
    "    return (matrix_vector_product(a, b_0),\n",
    "            matrix_vector_product(a, b_1))\n",
    "\n",
    "def inverse(a):\n",
    "    \n",
    "    det = determinant(a)\n",
    "    if det == 0:\n",
    "        return False\n",
    "    \n",
    "    inv = ( ( a[1][1]/det, -a[0][1]/det ),\n",
    "            ( -a[1][0]/det, a[0][0]/det ) )\n",
    "    \n",
    "    return inv\n",
    "\n",
    "mat_a = ((2,4), (5,9))\n",
    "matmul( mat_a, inverse(mat_a) )\n"
   ]
  },
  {
   "cell_type": "markdown",
   "metadata": {
    "deletable": true,
    "editable": true
   },
   "source": [
    "# Exercise 3 : transformations\n",
    "\n",
    "Matrices can be viewed as transformations applied to vectors.\n",
    "In the following exercise, we will represent vectors as their endpoint when starting form the origin of a coordinate system.\n",
    "\n",
    "1. Write a function to plot 2 lists of vectors, with 2 different colors.\n",
    "\n",
    "2. Visualize the effects of a transformation by a matrix of deternminant 0. \n",
    "\n",
    "2. Visualize classical 2D transformations: rotation, scaling, sheer, ...\n",
    "\n"
   ]
  },
  {
   "cell_type": "code",
   "execution_count": 32,
   "metadata": {
    "deletable": true,
    "editable": true
   },
   "outputs": [
    {
     "data": {
      "image/png": "[encoded data removed]",
      "text/plain": [
       "<Figure size 432x288 with 1 Axes>"
      ]
     },
     "metadata": {
      "needs_background": "light"
     },
     "output_type": "display_data"
    }
   ],
   "source": [
    "def plot_list_vectors(list_a, list_b):\n",
    "    \n",
    "    for vector in list_a:\n",
    "        plt.plot(vector[0], vector[1], 'go' )\n",
    "    \n",
    "    for vector in list_b:\n",
    "        plt.plot(vector[0], vector[1], 'bx' )\n",
    "        \n",
    "    plt.show()\n",
    "    \n",
    "\n",
    "vecs_a = [ (0,1), (1,0), (2,4), (-3, -7)]\n",
    "vecs_b = [ (-1,1), (1,2), (1,-2), (-3, -5)]\n",
    "plot_list_vectors( vecs_a, vecs_b )"
   ]
  },
  {
   "cell_type": "code",
   "execution_count": 36,
   "metadata": {
    "deletable": true,
    "editable": true
   },
   "outputs": [
    {
     "data": {
      "text/plain": [
       "0"
      ]
     },
     "execution_count": 36,
     "metadata": {},
     "output_type": "execute_result"
    }
   ],
   "source": [
    "# Let's build a list of evenly spaced vectors:\n",
    "list_vecs = []\n",
    "for i in range(-5, 6):\n",
    "    for j in range(-3, 4):\n",
    "        list_vecs.append( (i,j) )\n",
    "        \n",
    "# Let's take a matrix with determinant 0:\n",
    "A = ( (2,0), (1,0) )\n",
    "determinant(A)"
   ]
  },
  {
   "cell_type": "code",
   "execution_count": 37,
   "metadata": {},
   "outputs": [
    {
     "data": {
      "image/png": "[encoded data removed]",
      "text/plain": [
       "<Figure size 432x288 with 1 Axes>"
      ]
     },
     "metadata": {
      "needs_background": "light"
     },
     "output_type": "display_data"
    }
   ],
   "source": [
    "# Now we project all the vectors using A:\n",
    "list_proj = []\n",
    "for vec in list_vecs:\n",
    "    list_proj.append( matrix_vector_product(A, vec) )\n",
    "    \n",
    "plot_list_vectors(list_vecs, list_proj)"
   ]
  },
  {
   "cell_type": "markdown",
   "metadata": {},
   "source": [
    "Amazing! All vectors have been projected on a line that actually follows the vector (2,1)\n",
    "\n",
    "Now, Let's try with another matrix, and you can try on your own the other classical transformations..\n"
   ]
  },
  {
   "cell_type": "code",
   "execution_count": 39,
   "metadata": {},
   "outputs": [
    {
     "data": {
      "image/png": "[encoded data removed]",
      "text/plain": [
       "<Figure size 432x288 with 1 Axes>"
      ]
     },
     "metadata": {
      "needs_background": "light"
     },
     "output_type": "display_data"
    }
   ],
   "source": [
    "B = ( (1, 4), (2, -1) )\n",
    "list_proj = []\n",
    "for vec in list_vecs:\n",
    "    list_proj.append( matrix_vector_product(B, vec) )\n",
    "    \n",
    "plot_list_vectors(list_vecs, list_proj)\n"
   ]
  },
  {
   "cell_type": "code",
   "execution_count": null,
   "metadata": {},
   "outputs": [],
   "source": []
  }
 ],
 "metadata": {
  "kernelspec": {
   "display_name": "Python 3",
   "language": "python",
   "name": "python3"
  },
  "language_info": {
   "codemirror_mode": {
    "name": "ipython",
    "version": 3
   },
   "file_extension": ".py",
   "mimetype": "text/x-python",
   "name": "python",
   "nbconvert_exporter": "python",
   "pygments_lexer": "ipython3",
   "version": "3.6.9"
  }
 },
 "nbformat": 4,
 "nbformat_minor": 4
}

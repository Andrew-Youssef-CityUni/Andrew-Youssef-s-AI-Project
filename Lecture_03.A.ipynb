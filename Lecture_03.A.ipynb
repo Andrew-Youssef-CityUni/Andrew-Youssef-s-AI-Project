{
 "cells": [
  {
   "cell_type": "markdown",
   "metadata": {},
   "source": [
    "# 1 - Decorators"
   ]
  },
  {
   "cell_type": "code",
   "execution_count": 23,
   "metadata": {},
   "outputs": [
    {
     "name": "stdout",
     "output_type": "stream",
     "text": [
      "0\n",
      "6\n",
      "10\n"
     ]
    }
   ],
   "source": [
    "def clip_min_max(function):\n",
    "    \n",
    "    def wrapper(input_number):\n",
    "        \n",
    "        result = function(input_number)\n",
    "        \n",
    "        if result < 0: return 0\n",
    "        if result > 10: return 10\n",
    "        return result\n",
    "    \n",
    "    return wrapper\n",
    "\n",
    "@clip_min_max\n",
    "def multiply(a):\n",
    "    return a*3\n",
    "\n",
    "print(multiply(-1))\n",
    "print(multiply(2))\n",
    "print(multiply(4))"
   ]
  },
  {
   "cell_type": "code",
   "execution_count": 24,
   "metadata": {},
   "outputs": [
    {
     "name": "stdout",
     "output_type": "stream",
     "text": [
      "0\n",
      "60\n",
      "100\n"
     ]
    }
   ],
   "source": [
    "def scale(scale_ratio):\n",
    "    \n",
    "    def decorator_scale(function):\n",
    "    \n",
    "        def wrapper(input_number):\n",
    "            result = function(input_number)*scale_ratio\n",
    "            return result\n",
    "\n",
    "        return wrapper\n",
    "\n",
    "    return decorator_scale\n",
    "    \n",
    "@scale(10)\n",
    "@clip_min_max\n",
    "def multiply(a):\n",
    "    return a*3\n",
    "\n",
    "print(multiply(-1))\n",
    "print(multiply(2))\n",
    "print(multiply(4))"
   ]
  },
  {
   "cell_type": "code",
   "execution_count": 25,
   "metadata": {},
   "outputs": [
    {
     "name": "stdout",
     "output_type": "stream",
     "text": [
      "0\n",
      "10\n",
      "10\n"
     ]
    }
   ],
   "source": [
    "@clip_min_max\n",
    "@scale(10)\n",
    "def multiply(a):\n",
    "    return a*3\n",
    "\n",
    "print(multiply(-1))\n",
    "print(multiply(2))\n",
    "print(multiply(4))"
   ]
  },
  {
   "cell_type": "code",
   "execution_count": 6,
   "metadata": {},
   "outputs": [],
   "source": [
    "def scale_before_function(scale_ratio):\n",
    "    \n",
    "    def decorator_scale(function):\n",
    "    \n",
    "        def wrapper(input_number):\n",
    "            scaled_input = input_number*scale_ratio\n",
    "            result = function(scaled_input)\n",
    "            return result\n",
    "\n",
    "        return wrapper\n",
    "\n",
    "    return decorator_scale\n",
    "\n",
    "\n",
    "    "
   ]
  },
  {
   "cell_type": "code",
   "execution_count": 7,
   "metadata": {},
   "outputs": [
    {
     "name": "stdout",
     "output_type": "stream",
     "text": [
      "0\n",
      "10\n",
      "10\n"
     ]
    }
   ],
   "source": [
    "@scale_before_function(10)\n",
    "@clip_min_max\n",
    "def multiply(a):\n",
    "    return a*3\n",
    "\n",
    "print(multiply(-1))\n",
    "print(multiply(2))\n",
    "print(multiply(4))"
   ]
  },
  {
   "cell_type": "markdown",
   "metadata": {},
   "source": [
    "# 2 - Properties"
   ]
  },
  {
   "cell_type": "code",
   "execution_count": 11,
   "metadata": {},
   "outputs": [
    {
     "data": {
      "text/plain": [
       "181"
      ]
     },
     "execution_count": 11,
     "metadata": {},
     "output_type": "execute_result"
    }
   ],
   "source": [
    "import math\n",
    "\n",
    "class Human:\n",
    "    \n",
    "    def __init__(self, size_in_cm):\n",
    "        \n",
    "        self.size = size_in_cm\n",
    "        \n",
    "    @property\n",
    "    def size(self):\n",
    "        return self.__size\n",
    "    \n",
    "    @size.setter\n",
    "    def size(self, input_size):\n",
    "        self.__size = input_size\n",
    "        \n",
    "class French(Human):\n",
    "    \n",
    "    def __init__(self, size_in_camembert):\n",
    "        \n",
    "        self.size = size_in_camembert\n",
    "    \n",
    "    @property\n",
    "    def size(self):\n",
    "        return self.__size_in_camembert * 11\n",
    "    \n",
    "    @size.setter\n",
    "    def size(self, input_size):\n",
    "        self.__size_in_camembert = input_size\n",
    "        \n",
    "bobby = Human(181)\n",
    "bobby.size\n",
    "    "
   ]
  },
  {
   "cell_type": "code",
   "execution_count": 12,
   "metadata": {},
   "outputs": [
    {
     "data": {
      "text/plain": [
       "176"
      ]
     },
     "execution_count": 12,
     "metadata": {},
     "output_type": "execute_result"
    }
   ],
   "source": [
    "charles = French(16)\n",
    "charles.size"
   ]
  },
  {
   "cell_type": "code",
   "execution_count": 13,
   "metadata": {},
   "outputs": [
    {
     "data": {
      "text/plain": [
       "60"
      ]
     },
     "execution_count": 13,
     "metadata": {},
     "output_type": "execute_result"
    }
   ],
   "source": [
    "class Car:\n",
    "    \n",
    "    def __init__(self, max_speed):\n",
    "        \n",
    "        self.__max_speed = max_speed\n",
    "        self.speed = 0\n",
    "        \n",
    "    @property\n",
    "    def max_speed(self):\n",
    "        return self.__max_speed\n",
    "    \n",
    "    @max_speed.setter\n",
    "    def max_speed(self, max_speed):\n",
    "        print('Nope!')\n",
    "        \n",
    "    @property\n",
    "    def speed(self):\n",
    "        return self.__speed\n",
    "    \n",
    "    @speed.setter\n",
    "    def speed(self, command_speed):\n",
    "        if command_speed > self.__max_speed:\n",
    "            self.__speed = self.__max_speed\n",
    "        elif command_speed < 0:\n",
    "            self.__speed = 0\n",
    "            \n",
    "clio = Car(60)\n",
    "clio.speed = 70\n",
    "clio.speed"
   ]
  },
  {
   "cell_type": "code",
   "execution_count": 14,
   "metadata": {},
   "outputs": [
    {
     "data": {
      "text/plain": [
       "60"
      ]
     },
     "execution_count": 14,
     "metadata": {},
     "output_type": "execute_result"
    }
   ],
   "source": [
    "clio.max_speed"
   ]
  },
  {
   "cell_type": "code",
   "execution_count": 15,
   "metadata": {},
   "outputs": [
    {
     "name": "stdout",
     "output_type": "stream",
     "text": [
      "Nope!\n"
     ]
    }
   ],
   "source": [
    "clio.max_speed = 123"
   ]
  },
  {
   "cell_type": "markdown",
   "metadata": {},
   "source": [
    "# 3 - Abstract Base Classes"
   ]
  },
  {
   "cell_type": "code",
   "execution_count": 16,
   "metadata": {},
   "outputs": [
    {
     "ename": "TypeError",
     "evalue": "Can't instantiate abstract class Animal with abstract methods says, wild",
     "output_type": "error",
     "traceback": [
      "\u001b[1;31m---------------------------------------------------------------------------\u001b[0m",
      "\u001b[1;31mTypeError\u001b[0m                                 Traceback (most recent call last)",
      "\u001b[1;32m<ipython-input-16-db20139cce1b>\u001b[0m in \u001b[0;36m<module>\u001b[1;34m\u001b[0m\n\u001b[0;32m     13\u001b[0m         \u001b[1;32mpass\u001b[0m\u001b[1;33m\u001b[0m\u001b[1;33m\u001b[0m\u001b[0m\n\u001b[0;32m     14\u001b[0m \u001b[1;33m\u001b[0m\u001b[0m\n\u001b[1;32m---> 15\u001b[1;33m \u001b[0mmichael\u001b[0m \u001b[1;33m=\u001b[0m \u001b[0mAnimal\u001b[0m\u001b[1;33m(\u001b[0m\u001b[1;33m)\u001b[0m\u001b[1;33m\u001b[0m\u001b[1;33m\u001b[0m\u001b[0m\n\u001b[0m\u001b[0;32m     16\u001b[0m \u001b[0mmichael\u001b[0m\u001b[1;33m.\u001b[0m\u001b[0msays\u001b[0m\u001b[1;33m(\u001b[0m\u001b[1;33m)\u001b[0m\u001b[1;33m\u001b[0m\u001b[1;33m\u001b[0m\u001b[0m\n",
      "\u001b[1;31mTypeError\u001b[0m: Can't instantiate abstract class Animal with abstract methods says, wild"
     ]
    }
   ],
   "source": [
    "from abc import ABC, abstractmethod\n",
    "\n",
    "class Animal(ABC):\n",
    "    \n",
    "    @abstractmethod\n",
    "    def says(self):\n",
    "        print('When I am hungry I say ')\n",
    "        pass\n",
    "\n",
    "    @property\n",
    "    @abstractmethod\n",
    "    def wild(self):\n",
    "        pass\n",
    "        \n",
    "michael = Animal()\n",
    "michael.says()"
   ]
  },
  {
   "cell_type": "code",
   "execution_count": 17,
   "metadata": {},
   "outputs": [
    {
     "name": "stdout",
     "output_type": "stream",
     "text": [
      "When I am hungry I say \n",
      "meoww\n"
     ]
    }
   ],
   "source": [
    "   \n",
    "class Lion(Animal):\n",
    "    \n",
    "    def says(self):\n",
    "        super().says()\n",
    "        print('meoww')\n",
    "    \n",
    "    @property\n",
    "    def wild(self):\n",
    "        return True\n",
    "        \n",
    "simba = Lion()\n",
    "simba.says()"
   ]
  },
  {
   "cell_type": "code",
   "execution_count": 18,
   "metadata": {},
   "outputs": [],
   "source": [
    "class Cat(Lion):\n",
    "    \n",
    "    @property\n",
    "    def wild(self):\n",
    "        return False"
   ]
  },
  {
   "cell_type": "code",
   "execution_count": 19,
   "metadata": {},
   "outputs": [
    {
     "name": "stdout",
     "output_type": "stream",
     "text": [
      "When I am hungry I say \n",
      "meoww\n"
     ]
    }
   ],
   "source": [
    "dinah = Cat()\n",
    "dinah.says()"
   ]
  },
  {
   "cell_type": "code",
   "execution_count": 20,
   "metadata": {},
   "outputs": [
    {
     "data": {
      "text/plain": [
       "False"
      ]
     },
     "execution_count": 20,
     "metadata": {},
     "output_type": "execute_result"
    }
   ],
   "source": [
    "dinah.wild"
   ]
  },
  {
   "cell_type": "code",
   "execution_count": 22,
   "metadata": {},
   "outputs": [
    {
     "ename": "AttributeError",
     "evalue": "can't set attribute",
     "output_type": "error",
     "traceback": [
      "\u001b[1;31m---------------------------------------------------------------------------\u001b[0m",
      "\u001b[1;31mAttributeError\u001b[0m                            Traceback (most recent call last)",
      "\u001b[1;32m<ipython-input-22-c60652f35631>\u001b[0m in \u001b[0;36m<module>\u001b[1;34m\u001b[0m\n\u001b[1;32m----> 1\u001b[1;33m \u001b[0mdinah\u001b[0m\u001b[1;33m.\u001b[0m\u001b[0mwild\u001b[0m \u001b[1;33m=\u001b[0m \u001b[1;32mFalse\u001b[0m\u001b[1;33m\u001b[0m\u001b[1;33m\u001b[0m\u001b[0m\n\u001b[0m",
      "\u001b[1;31mAttributeError\u001b[0m: can't set attribute"
     ]
    }
   ],
   "source": [
    "dinah.wild = False"
   ]
  },
  {
   "cell_type": "code",
   "execution_count": null,
   "metadata": {},
   "outputs": [],
   "source": []
  }
 ],
 "metadata": {
  "kernelspec": {
   "display_name": "Python 3",
   "language": "python",
   "name": "python3"
  },
  "language_info": {
   "codemirror_mode": {
    "name": "ipython",
    "version": 3
   },
   "file_extension": ".py",
   "mimetype": "text/x-python",
   "name": "python",
   "nbconvert_exporter": "python",
   "pygments_lexer": "ipython3",
   "version": "3.8.3"
  }
 },
 "nbformat": 4,
 "nbformat_minor": 4
}

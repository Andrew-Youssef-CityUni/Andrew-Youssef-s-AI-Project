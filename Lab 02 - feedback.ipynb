{
 "cells": [
  {
   "cell_type": "markdown",
   "metadata": {},
   "source": [
    "# Lab 02 - Epic Robot Battles\n",
    "\n",
    "In the following exercises, we will build robots and make them fight against each other!\n",
    "We will first build a generic class robot, that we will improve step by step.\n",
    "\n",
    "\n",
    "All robots in the battlefield are different. But, they have common attributes:\n",
    "- a number of initial_health_points \n",
    "- a quantity of initial_energy\n",
    "\n",
    "As these are set as rules of the game, we are going to define them as constants for the Lab.\n",
    "One option is to define them as global variables, or we can use Enum."
   ]
  },
  {
   "cell_type": "code",
   "execution_count": 1,
   "metadata": {},
   "outputs": [
    {
     "data": {
      "text/plain": [
       "<GameRules.INITIAL_HEALTH_POINTS: 1000>"
      ]
     },
     "execution_count": 1,
     "metadata": {},
     "output_type": "execute_result"
    }
   ],
   "source": [
    "from enum import IntEnum\n",
    "\n",
    "class GameRules(IntEnum):\n",
    "    INITIAL_HEALTH_POINTS = 1000\n",
    "    INITIAL_ENERGY = 1000\n",
    "    \n",
    "GameRules.INITIAL_ENERGY"
   ]
  },
  {
   "cell_type": "markdown",
   "metadata": {},
   "source": [
    "At each turn of a battle, each robot makes an action.\n",
    "\n",
    "# Exercise 1: Build the Robot class\n",
    "\n",
    "The first step is to build a simple robot class.\n",
    "\n",
    "Robot will fight with each other. \n",
    "Basic robot have these charactersistics:\n",
    "- they inflict 5 damages when they hit (force = 5)\n",
    "- they have a 10% chance of failing at an attack (fail_percentage = 10)\n",
    "\n",
    "Robot can do certain actions:\n",
    "- attack: takes 1 of energy\n",
    "\n",
    "Depending on the action of the opponent, they might decide on the action to take.\n",
    "\n",
    "Once a battle is finished, we can reset the energy and health points to their initial values.\n",
    "\n",
    "Finish this skeleton of the Robot class:\n"
   ]
  },
  {
   "cell_type": "code",
   "execution_count": 2,
   "metadata": {},
   "outputs": [],
   "source": [
    "import random\n",
    "\n",
    "class RobotPoints(IntEnum):\n",
    "    FORCE = 5\n",
    "    FAIL_PERCENTAGE = 10\n",
    "    \n",
    "class Robot:\n",
    "    \n",
    "    def __init__(self, name):\n",
    "        \n",
    "        self.name = name\n",
    "        \n",
    "        self.initial_energy = GameRules.INITIAL_ENERGY\n",
    "        self.initial_health_points = GameRules.INITIAL_HEALTH_POINTS\n",
    "        \n",
    "        self.force = RobotPoints.FORCE\n",
    "        self.fail_percentage = RobotPoints.FAIL_PERCENTAGE\n",
    "        \n",
    "        self.energy = self.initial_energy\n",
    "        self.health_points = self.initial_health_points\n",
    "    \n",
    "    def decide_on_action(self, incoming_damage):\n",
    "        # for now, robots will be very dumb and always attack.\n",
    "        \n",
    "        self.health_points -= incoming_damage\n",
    "        \n",
    "        attack_strenght = 0\n",
    "        \n",
    "        if self.energy > 0:\n",
    "            attack_strenght = self.attack()\n",
    "        \n",
    "        return attack_strenght\n",
    "        \n",
    "    def attack(self):\n",
    "        \n",
    "        self.energy -= 1\n",
    "        \n",
    "        if random.randint(0, 99) < self.fail_percentage:\n",
    "            return 0\n",
    "        \n",
    "        return self.force\n",
    "    \n",
    "    def reset(self):\n",
    "        \n",
    "        self.energy = self.initial_energy\n",
    "        self.health_points = self.initial_health_points"
   ]
  },
  {
   "cell_type": "markdown",
   "metadata": {},
   "source": [
    "# Exercise 2: Game engine\n",
    "\n",
    "Now, we will build a Battle ring.\n",
    "This is a Class, that takes as arguments two robots, and make them battle.\n",
    "- selects randomly a robot which starts \n",
    "- iterate actions until the end\n",
    "\n",
    "The robot performs actions until either:\n",
    "- one robot has no health points left\n",
    "- two robots don't have energy left\n",
    "\n",
    "Then, proclaim a winner: the one with more health points left.\n",
    "\n",
    "Complete the following class:"
   ]
  },
  {
   "cell_type": "code",
   "execution_count": 3,
   "metadata": {},
   "outputs": [],
   "source": [
    "class Battle:\n",
    "    \n",
    "    def __init__(self, robot_1, robot_2):\n",
    "        \n",
    "        self.robot_1 = robot_1\n",
    "        self.robot_2 = robot_2\n",
    "        \n",
    "        # select first robot \n",
    "        self.current_acting_robot = random.choice( [self.robot_1, self.robot_2] )\n",
    "                \n",
    "    def battle_ended(self):\n",
    "        \n",
    "        if self.robot_1.health_points <= 0:\n",
    "            return True\n",
    "        \n",
    "        if self.robot_2.health_points <= 0:\n",
    "            return True\n",
    "        \n",
    "        if self.robot_1.energy <= 0 and self.robot_2.energy <= 0:\n",
    "            return True\n",
    "        \n",
    "        return False\n",
    "    \n",
    "    def find_winner(self):\n",
    "        \n",
    "        if self.robot_1.health_points > self.robot_2.health_points:\n",
    "            \n",
    "            return self.robot_1\n",
    "            \n",
    "        elif self.robot_1.health_points < self.robot_2.health_points:\n",
    "            \n",
    "            return self.robot_2\n",
    "\n",
    "        else:\n",
    "            \n",
    "            return None\n",
    "        \n",
    "\n",
    "    def announce_winner(self):\n",
    "        \n",
    "        winner = self.find_winner()\n",
    "        \n",
    "        if winner is self.robot_1:\n",
    "            loser = self.robot_2\n",
    "        else:\n",
    "            loser = self.robot_1\n",
    "            \n",
    "        print('  Winner is ', winner.name, ' by ', str(winner.health_points - loser.health_points))\n",
    "        \n",
    "        \n",
    "    def battle_until_the_end(self):\n",
    "        \n",
    "        battle_ongoing = True\n",
    "        \n",
    "        #first action is initialized as an attack with 0 damage\n",
    "        \n",
    "        attack_points = 0\n",
    "        \n",
    "        while battle_ongoing:\n",
    "            \n",
    "            # inflict damages on the current robot\n",
    "            # the current robot produces new_damages\n",
    "            \n",
    "            new_attack_points = self.current_acting_robot.decide_on_action(attack_points)\n",
    "            \n",
    "            # Change the current_acting_robot. If it was robot_1, then now it is robot_2\n",
    "            if self.current_acting_robot is self.robot_1:\n",
    "                self.current_acting_robot = self.robot_2\n",
    "            else:\n",
    "                self.current_acting_robot = self.robot_1\n",
    "            \n",
    "            # Check if battle ended\n",
    "            if self.battle_ended() is True:\n",
    "                battle_ongoing = False\n",
    "                \n",
    "            # Set the damage points sent by the previous robot.\n",
    "            attack_points = new_attack_points\n",
    "            \n",
    "            \n",
    "        winner = self.find_winner()\n",
    "        \n",
    "        return winner\n",
    "        \n",
    "            "
   ]
  },
  {
   "cell_type": "code",
   "execution_count": 4,
   "metadata": {},
   "outputs": [
    {
     "name": "stdout",
     "output_type": "stream",
     "text": [
      "  Winner is  donald  by  30\n"
     ]
    }
   ],
   "source": [
    "# Now we can test it!\n",
    "\n",
    "robot_1 = Robot('spock')\n",
    "robot_2 = Robot('donald')\n",
    "\n",
    "battleground = Battle(robot_1, robot_2)\n",
    "winner = battleground.battle_until_the_end()\n",
    "battleground.announce_winner()\n",
    "\n"
   ]
  },
  {
   "cell_type": "markdown",
   "metadata": {},
   "source": [
    "# Exercise 3: Inheritance\n",
    "\n",
    "Create a class StrongBot(Robot):\n",
    "- it accepts brutality as an argument, to increase the original strength by the number of brutality point\n",
    "- any additional brutality point increases the energy required to attack by 0.5 points\n",
    "- make it compete with a classic Robot, and verify that it kicks its bolts.\n",
    "\n",
    "Create a class CleverBot(Robot):\n",
    "- it can choose to either attack or dodge\n",
    "- it can dodge with a probbility of 3/10. dodging takes two energy point \n",
    "- it accepts an additional argument named intelligence. For each intelligence point, it raises the dodging probability (3/10, 4/10, 5/10)\n",
    "- when attacked, it dodges, else it attacks\n",
    "\n",
    "Make StrongBot and CleverBot fight. Who wins, depending on the intelligence and brutality?\n",
    "\n",
    "Here, it can be interesting to check matplotlib Gallery to see how you can plot this result."
   ]
  },
  {
   "cell_type": "code",
   "execution_count": 5,
   "metadata": {},
   "outputs": [],
   "source": [
    "class StrongBot(Robot):\n",
    "    \n",
    "    def __init__(self, name, brutality):\n",
    "        \n",
    "        super().__init__(name)\n",
    "        \n",
    "        self.brutality = brutality\n",
    "        self.force += brutality\n",
    "        \n",
    "    def attack(self):\n",
    "        \n",
    "        attack_strenght = super().attack()\n",
    "        self.energy -= self.brutality/2.0\n",
    "        \n",
    "        return attack_strenght\n",
    "        \n",
    "        "
   ]
  },
  {
   "cell_type": "code",
   "execution_count": 9,
   "metadata": {},
   "outputs": [],
   "source": [
    "class CleverBot(Robot):\n",
    "    \n",
    "    def __init__(self, name, intelligence):\n",
    "        \n",
    "        super().__init__(name)\n",
    "        \n",
    "        self.intelligence = intelligence\n",
    "        \n",
    "        self.dodge_percentage = 30 + 10*intelligence\n",
    "        if self.dodge_percentage > 100: \n",
    "            self.dodge_percentage = 100\n",
    "        \n",
    "    def dodge(self):\n",
    "        \n",
    "        self.energy -= 2\n",
    "        \n",
    "        if random.randint(0, 99) < self.dodge_percentage:\n",
    "            return True\n",
    "        else:\n",
    "            return False\n",
    "    \n",
    "    def decide_on_action(self, incoming_damage):\n",
    "        \n",
    "        attack_strenght = 0\n",
    "        \n",
    "        if self.energy > 0:\n",
    "            \n",
    "            if incoming_damage > 0:\n",
    "                dodge_succsful = self.dodge()\n",
    "                if not dodge_succsful:\n",
    "                    self.health_points -= incoming_damage\n",
    "\n",
    "            else:\n",
    "                attack_strenght = self.attack()\n",
    "                \n",
    "        return attack_strenght\n",
    "                "
   ]
  },
  {
   "cell_type": "code",
   "execution_count": 10,
   "metadata": {},
   "outputs": [
    {
     "name": "stdout",
     "output_type": "stream",
     "text": [
      "2.0\n"
     ]
    }
   ],
   "source": [
    "# Now we can test it!\n",
    "\n",
    "robot_1 = StrongBot('goliath', brutality = 2)\n",
    "robot_2 = CleverBot('david', intelligence = 5)\n",
    "\n",
    "times_david_wins = 0.0\n",
    "\n",
    "# We do 1000 battles to see the frequency at which david wins against goliath.\n",
    "for i in range(1000):\n",
    "\n",
    "    battleground = Battle(robot_1, robot_2)\n",
    "    winner = battleground.battle_until_the_end()\n",
    "    \n",
    "    if winner is robot_2:\n",
    "        times_david_wins += 1.0\n",
    "        \n",
    "    robot_1.reset()\n",
    "    robot_2.reset()\n",
    "    \n",
    "percentage_win_by_david = 100*times_david_wins/1000\n",
    "print( percentage_win_by_david )\n",
    "\n"
   ]
  },
  {
   "cell_type": "markdown",
   "metadata": {},
   "source": [
    "# For fun\n",
    "\n",
    "Let's do a systematic evaluation of who wins, between clever and strong robots."
   ]
  },
  {
   "cell_type": "code",
   "execution_count": 15,
   "metadata": {},
   "outputs": [
    {
     "data": {
      "text/plain": [
       "<matplotlib.colorbar.Colorbar at 0x20e37dcf648>"
      ]
     },
     "execution_count": 15,
     "metadata": {},
     "output_type": "execute_result"
    },
    {
     "data": {
      "image/png": "[encoded data removed]",
      "text/plain": [
       "<Figure size 432x288 with 2 Axes>"
      ]
     },
     "metadata": {
      "needs_background": "light"
     },
     "output_type": "display_data"
    }
   ],
   "source": [
    "import numpy as np\n",
    "import matplotlib.pyplot as plt\n",
    "\n",
    "def evaluate_intelligence_vs_brutality(intelligence, brutality):\n",
    "    robot_1 = StrongBot('strong', brutality = brutality)\n",
    "    robot_2 = CleverBot('clever', intelligence = intelligence)\n",
    "\n",
    "    times_rob_2_wins = 0.0\n",
    "\n",
    "    for i in range(100):\n",
    "\n",
    "        battleground = Battle(robot_1, robot_2)\n",
    "        winner = battleground.battle_until_the_end()\n",
    "\n",
    "        if winner is robot_2:\n",
    "            times_rob_2_wins += 1.0\n",
    "\n",
    "        robot_1.reset()\n",
    "        robot_2.reset()\n",
    "\n",
    "    return times_rob_2_wins\n",
    "\n",
    "result = np.zeros( (10, 10))\n",
    "\n",
    "for intel in range(10):\n",
    "    for brutal in range(10):\n",
    "        result[intel, brutal] = evaluate_intelligence_vs_brutality(intel, brutal)\n",
    "\n",
    "plt.ylabel('intelligence')\n",
    "plt.xlabel('brutality')\n",
    "\n",
    "plt.imshow(result)\n",
    "plt.colorbar()\n",
    "\n",
    "# The plot shows the probability of winning (in percentage) for a clever agent against a strong agent."
   ]
  },
  {
   "cell_type": "code",
   "execution_count": null,
   "metadata": {},
   "outputs": [],
   "source": []
  }
 ],
 "metadata": {
  "kernelspec": {
   "display_name": "Python 3",
   "language": "python",
   "name": "python3"
  },
  "language_info": {
   "codemirror_mode": {
    "name": "ipython",
    "version": 3
   },
   "file_extension": ".py",
   "mimetype": "text/x-python",
   "name": "python",
   "nbconvert_exporter": "python",
   "pygments_lexer": "ipython3",
   "version": "3.8.3"
  }
 },
 "nbformat": 4,
 "nbformat_minor": 4
}
